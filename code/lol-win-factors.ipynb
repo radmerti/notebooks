{
 "cells": [
  {
   "cell_type": "markdown",
   "metadata": {},
   "source": [
    "# League of Legends Early Objectives"
   ]
  },
  {
   "cell_type": "markdown",
   "metadata": {},
   "source": [
    "## Imports"
   ]
  },
  {
   "cell_type": "code",
   "execution_count": 1,
   "metadata": {},
   "outputs": [],
   "source": [
    "%matplotlib inline\n",
    "\n",
    "from concurrent.futures import ThreadPoolExecutor, as_completed\n",
    "from functools import partial\n",
    "from json import load\n",
    "from os import listdir, remove\n",
    "from os.path import expanduser, isfile, join\n",
    "from time import sleep\n",
    "\n",
    "\n",
    "import numpy as np\n",
    "import pymc3 as pm\n",
    "import matplotlib.pyplot as plt\n",
    "import seaborn as sb\n",
    "from IPython.display import clear_output, display"
   ]
  },
  {
   "cell_type": "markdown",
   "metadata": {},
   "source": [
    "## Define Features"
   ]
  },
  {
   "cell_type": "code",
   "execution_count": 2,
   "metadata": {},
   "outputs": [],
   "source": [
    "def _extract_indicator_from_teams(key: str, match_details: dict) -> int:\n",
    "    indicator = 0\n",
    "    for team in match_details['teams']:\n",
    "        if team['teamId'] == 100:\n",
    "            indicator -= team[key]\n",
    "        else:\n",
    "            indicator += team[key]\n",
    "    return indicator\n",
    "\n",
    "def _extract_participant_stat(aggregator: callable, key: str, match_details: dict) -> int:\n",
    "    blue = aggregator(\n",
    "        participant['stats'][key] if key in participant['stats'] else 0\n",
    "        for participant in match_details['participants']\n",
    "        if participant['teamId'] == 100)\n",
    "\n",
    "    red = aggregator(\n",
    "        participant['stats'][key] if key in participant['stats'] else 0\n",
    "        for participant in match_details['participants']\n",
    "        if participant['teamId'] == 200)\n",
    "    \n",
    "    return red-blue\n",
    "\n",
    "def _extract_participant_timeline_key(team_id: int, lane: str, key: str, frame: str, match_details: dict):\n",
    "    '''\n",
    "    - team_id (int): Possible values are 100 (blue)\n",
    "        and 200 (red).\n",
    "\n",
    "    - lane (str): Possible values are 'MIDDLE', 'TOP',\n",
    "        'JUNGLE' and 'BOTTOM'.\n",
    "\n",
    "    - key (str): Possbile values are 'goldPerMinDeltas',\n",
    "        'creepsPerMinDeltas', 'xpPerMinDeltas' and\n",
    "        'damageTakenPerMinDeltas'\n",
    "\n",
    "    - frame (str): Possible values are '0-10', '10-20',\n",
    "        '20-30' and '30-end'.\n",
    "\n",
    "    - match_details (dict): whole dictionary of parse\n",
    "        match json.\n",
    "    '''\n",
    "    metric = 0.0  # sum because two players are bottom\n",
    "\n",
    "    for participant in match_details['participants']:\n",
    "        is_lane = participant['timeline']['lane'] == lane\n",
    "        is_team = participant['teamId'] == team_id\n",
    "        \n",
    "        if is_lane and is_team:\n",
    "            try:\n",
    "                metric += participant['timeline'][key][frame]\n",
    "            except KeyError:\n",
    "                return np.nan\n",
    "            \n",
    "    return metric\n",
    "\n",
    "def extract_red_win(match_details: dict) -> bool:\n",
    "    team = match_details['teams'][0]\n",
    "    \n",
    "    if team['teamId'] == 100:  # blue\n",
    "        if team['win'] == 'Win':\n",
    "            return False\n",
    "        else:\n",
    "            return True\n",
    "    else:  # red\n",
    "        if team['win'] == 'Win':\n",
    "            return True\n",
    "        else:\n",
    "            return False\n",
    "\n",
    "team_to_text = {100: 'blue', 200: 'red'}\n",
    "        \n",
    "def generate_participant_timeline_extractors(team_ids: (int,), lanes: (str,), keys: (str,), frames: (str,)):\n",
    "    for team_id in (100, 200):\n",
    "        for lane in ('BOTTOM', 'MIDDLE', 'TOP', 'JUNGLE'):\n",
    "            for key in ('goldPerMinDeltas', 'creepsPerMinDeltas', 'xpPerMinDeltas', 'damageTakenPerMinDeltas'):\n",
    "                for frame in ('0-10',):\n",
    "                    yield (\n",
    "                        f\"{key}{team_to_text[team_id].title()}{lane.title()}{frame.split('-')[-1]}\",\n",
    "                        'f4',\n",
    "                        partial(_extract_participant_timeline_key, team_id, lane, key, frame)\n",
    "                    )\n",
    "        \n",
    "features = (\n",
    "    ('redWin', 'i1', extract_red_win),\n",
    "\n",
    "    ('firstDragon', 'f4', partial(_extract_indicator_from_teams, 'firstDragon')),\n",
    "    ('firstRiftHerald', 'f4', partial(_extract_indicator_from_teams, 'firstRiftHerald')),\n",
    "    \n",
    "    ('firstBlood', 'f4', partial(_extract_indicator_from_teams, 'firstBlood')),\n",
    "    ('anyFirstBloodAssist', 'f4', partial(_extract_participant_stat, any, 'firstBloodAssist')),\n",
    "    ('sumFirstBloodAssist', 'f4', partial(_extract_participant_stat, sum, 'firstBloodAssist')),\n",
    "\n",
    "    ('firstTower', 'f4', partial(_extract_indicator_from_teams, 'firstTower')),\n",
    "    ('anyFirstTowerAssist', 'f4', partial(_extract_participant_stat, any, 'firstTowerAssist')),\n",
    "    ('sumFirstTowerAssist', 'f4', partial(_extract_participant_stat, sum, 'firstTowerAssist'))\n",
    ")+tuple(\n",
    "    extractor for extractor in\n",
    "    generate_participant_timeline_extractors(\n",
    "        (100, 200),\n",
    "        ('BOTTOM', 'MIDDLE', 'TOP', 'JUNGLE'),\n",
    "        ('goldPerMinDeltas', 'creepsPerMinDeltas', 'xpPerMinDeltas', 'damageTakenPerMinDeltas'),\n",
    "        ('0-10',)\n",
    "    )\n",
    ")"
   ]
  },
  {
   "cell_type": "markdown",
   "metadata": {},
   "source": [
    "## Loading Data\n",
    "\n",
    "The data is in a folder with one file per match. The files are JSON encoded and named `{matchID}.json`."
   ]
  },
  {
   "cell_type": "code",
   "execution_count": 3,
   "metadata": {
    "scrolled": true
   },
   "outputs": [
    {
     "data": {
      "text/plain": [
       "'100.0%'"
      ]
     },
     "metadata": {},
     "output_type": "display_data"
    }
   ],
   "source": [
    "base_path = join(expanduser('~'), 'Downloads', 'lol_matches')\n",
    "\n",
    "filelist = listdir(base_path)\n",
    "\n",
    "data = np.zeros(len(filelist), dtype=[(f, t) for f, t, _ in features])\n",
    "\n",
    "type_to_default = {'i1': -128, 'f4': np.nan}\n",
    "for f, t, _ in features:\n",
    "    data[f] = type_to_default[t]\n",
    "\n",
    "print(f\"loading max. {len(filelist)} files\")\n",
    "\n",
    "def load_and_parse_match_details(file_i: int, base_path: str, file_name: str):\n",
    "    file_path = join(base_path, file_name)\n",
    "\n",
    "    if isfile(file_path):\n",
    "        with open(file_path, 'r') as match_file:\n",
    "            match_details = load(match_file)\n",
    "            \n",
    "        if not match_details['queueId'] in (420, 440):\n",
    "            remove(file_path)\n",
    "        else:\n",
    "            for feature, _, extractor in features:\n",
    "                try:\n",
    "                    data[feature][file_i] = extractor(match_details)\n",
    "                except Exception as exception:\n",
    "                    print(f\"error parsing feature {feature} for {file_name}\")\n",
    "                    raise\n",
    "                \n",
    "    return file_i\n",
    "\n",
    "max_file_done = 0\n",
    "\n",
    "with ThreadPoolExecutor(max_workers=4) as executor:\n",
    "    \n",
    "    print(f\"using {executor._max_workers} threads\")\n",
    "\n",
    "    futures = tuple(\n",
    "        executor.submit(load_and_parse_match_details, file_i, base_path, file_name)\n",
    "        for file_i, file_name in enumerate(filelist)\n",
    "        if file_name.endswith('.json')\n",
    "    )\n",
    "    \n",
    "    print(f\"submitted all {len(futures)} to the executor\")\n",
    "    \n",
    "    for future in as_completed(futures):\n",
    "        try:\n",
    "            file_i = future.result()\n",
    "        except Exception as exception:\n",
    "            executor.shutdown()\n",
    "            print(f\"error parsing files - {exception}\")\n",
    "            raise\n",
    "        else:\n",
    "            max_file_done = max(max_file_done, file_i)\n",
    "            if file_i%1000 == 0 or max_file_done+1==len(filelist):\n",
    "                clear_output(wait=True)\n",
    "                display(f\"{100.0*float(max_file_done+1)/float(len(filelist)):>5.1f}%\")"
   ]
  },
  {
   "cell_type": "markdown",
   "metadata": {},
   "source": [
    "## Add Computed Features"
   ]
  },
  {
   "cell_type": "code",
   "execution_count": 4,
   "metadata": {},
   "outputs": [],
   "source": [
    "def generate_computerd_feature_names():\n",
    "    for key in ('goldPerMinDeltas', 'creepsPerMinDeltas', 'xpPerMinDeltas', 'damageTakenPerMinDeltas'):\n",
    "        for lane in ('BOTTOM', 'MIDDLE', 'TOP', 'JUNGLE'):\n",
    "            k1 = f\"{key}Red{lane.title()}10\"\n",
    "            k2 = f\"{key}Blue{lane.title()}10\"\n",
    "            yield f\"{key}{lane.title()}10\", 'f4', lambda d: d[k1]-d[k2]\n",
    "\n",
    "new_data = np.zeros(len(data), dtype=[(f, t) for f, t, _ in features+tuple(generate_computerd_feature_names())])\n",
    "\n",
    "for f, _, _ in features:\n",
    "    new_data[f] = data[f]\n",
    "\n",
    "for f, _, e in generate_computerd_feature_names():\n",
    "    new_data[f] = e(new_data)\n",
    "    \n",
    "data = new_data\n",
    "features = features+tuple(generate_computerd_feature_names())"
   ]
  },
  {
   "cell_type": "markdown",
   "metadata": {},
   "source": [
    "## Cleanup"
   ]
  },
  {
   "cell_type": "markdown",
   "metadata": {},
   "source": [
    "Remove matches that have any NaN values."
   ]
  },
  {
   "cell_type": "code",
   "execution_count": 5,
   "metadata": {},
   "outputs": [
    {
     "name": "stdout",
     "output_type": "stream",
     "text": [
      "120511\n",
      "120430\n"
     ]
    }
   ],
   "source": [
    "print(len(data))\n",
    "\n",
    "missing_mask = np.zeros(len(data), dtype=np.bool)\n",
    "\n",
    "for f, _, _ in features:\n",
    "    missing_mask |= np.isnan(data[f])\n",
    "    \n",
    "data = data[~missing_mask].copy()\n",
    "\n",
    "print(len(data))"
   ]
  },
  {
   "cell_type": "markdown",
   "metadata": {},
   "source": [
    "Remove matches without first blood or first tower. These presumably were not played to the end."
   ]
  },
  {
   "cell_type": "code",
   "execution_count": 6,
   "metadata": {},
   "outputs": [
    {
     "name": "stdout",
     "output_type": "stream",
     "text": [
      "120430\n",
      "119628\n"
     ]
    }
   ],
   "source": [
    "print(len(data))\n",
    "\n",
    "data = data[:][((data['firstBlood'] != 0) | (data['firstTower'] != 0))].copy()\n",
    "\n",
    "print(len(data))"
   ]
  },
  {
   "cell_type": "markdown",
   "metadata": {},
   "source": [
    "Drop any columns that only have one value. They provide no information at all."
   ]
  },
  {
   "cell_type": "code",
   "execution_count": 7,
   "metadata": {},
   "outputs": [
    {
     "name": "stdout",
     "output_type": "stream",
     "text": [
      "57\n",
      "dropping anyFirstBloodAssist\n",
      "dropping sumFirstBloodAssist\n",
      "55\n"
     ]
    }
   ],
   "source": [
    "print(len(features))\n",
    "\n",
    "keep_columns = []\n",
    "for f, _, _ in features:\n",
    "    if f not in data.dtype.names:\n",
    "        continue\n",
    "    if not (data[f] == data[f][0]).all():\n",
    "        keep_columns.append(f)\n",
    "    else:\n",
    "        print(f\"dropping {f}\")\n",
    "\n",
    "data = data[keep_columns].copy()\n",
    "\n",
    "features = tuple(f for f in features if f[0] in keep_columns)\n",
    "\n",
    "print(len(features))"
   ]
  },
  {
   "cell_type": "markdown",
   "metadata": {},
   "source": [
    "Scale the prdictors to have an expected value of 0 and standard deviation of 1."
   ]
  },
  {
   "cell_type": "code",
   "execution_count": 8,
   "metadata": {},
   "outputs": [
    {
     "name": "stdout",
     "output_type": "stream",
     "text": [
      "                        firstDragon: mean=-0.00, std= 1.00\n",
      "                    firstRiftHerald: mean= 0.00, std= 1.00\n",
      "                         firstBlood: mean=-0.00, std= 1.00\n",
      "                         firstTower: mean= 0.00, std= 1.00\n",
      "                anyFirstTowerAssist: mean=-0.00, std= 1.00\n",
      "                sumFirstTowerAssist: mean= 0.00, std= 1.00\n",
      "       goldPerMinDeltasBlueBottom10: mean=-0.00, std= 1.00\n",
      "     creepsPerMinDeltasBlueBottom10: mean= 0.00, std= 1.00\n",
      "         xpPerMinDeltasBlueBottom10: mean=-0.00, std= 1.00\n",
      "damageTakenPerMinDeltasBlueBottom10: mean= 0.00, std= 1.00\n",
      "       goldPerMinDeltasBlueMiddle10: mean= 0.00, std= 1.00\n",
      "     creepsPerMinDeltasBlueMiddle10: mean= 0.00, std= 1.00\n",
      "         xpPerMinDeltasBlueMiddle10: mean= 0.00, std= 1.00\n",
      "damageTakenPerMinDeltasBlueMiddle10: mean=-0.00, std= 1.00\n",
      "          goldPerMinDeltasBlueTop10: mean= 0.00, std= 1.00\n",
      "        creepsPerMinDeltasBlueTop10: mean= 0.00, std= 1.00\n",
      "            xpPerMinDeltasBlueTop10: mean=-0.00, std= 1.00\n",
      "   damageTakenPerMinDeltasBlueTop10: mean= 0.00, std= 1.00\n",
      "       goldPerMinDeltasBlueJungle10: mean= 0.00, std= 1.00\n",
      "     creepsPerMinDeltasBlueJungle10: mean=-0.00, std= 1.00\n",
      "         xpPerMinDeltasBlueJungle10: mean= 0.00, std= 1.00\n",
      "damageTakenPerMinDeltasBlueJungle10: mean=-0.00, std= 1.00\n",
      "        goldPerMinDeltasRedBottom10: mean=-0.00, std= 1.00\n",
      "      creepsPerMinDeltasRedBottom10: mean=-0.00, std= 1.00\n",
      "          xpPerMinDeltasRedBottom10: mean=-0.00, std= 1.00\n",
      " damageTakenPerMinDeltasRedBottom10: mean= 0.00, std= 1.00\n",
      "        goldPerMinDeltasRedMiddle10: mean= 0.00, std= 1.00\n",
      "      creepsPerMinDeltasRedMiddle10: mean= 0.00, std= 1.00\n",
      "          xpPerMinDeltasRedMiddle10: mean=-0.00, std= 1.00\n",
      " damageTakenPerMinDeltasRedMiddle10: mean= 0.00, std= 1.00\n",
      "           goldPerMinDeltasRedTop10: mean=-0.00, std= 1.00\n",
      "         creepsPerMinDeltasRedTop10: mean= 0.00, std= 1.00\n",
      "             xpPerMinDeltasRedTop10: mean= 0.00, std= 1.00\n",
      "    damageTakenPerMinDeltasRedTop10: mean= 0.00, std= 1.00\n",
      "        goldPerMinDeltasRedJungle10: mean=-0.00, std= 1.00\n",
      "      creepsPerMinDeltasRedJungle10: mean= 0.00, std= 1.00\n",
      "          xpPerMinDeltasRedJungle10: mean=-0.00, std= 1.00\n",
      " damageTakenPerMinDeltasRedJungle10: mean= 0.00, std= 1.00\n",
      "           goldPerMinDeltasBottom10: mean=-0.00, std= 1.00\n",
      "           goldPerMinDeltasMiddle10: mean=-0.00, std= 1.00\n",
      "              goldPerMinDeltasTop10: mean= 0.00, std= 1.00\n",
      "           goldPerMinDeltasJungle10: mean=-0.00, std= 1.00\n",
      "         creepsPerMinDeltasBottom10: mean=-0.00, std= 1.00\n",
      "         creepsPerMinDeltasMiddle10: mean= 0.00, std= 1.00\n",
      "            creepsPerMinDeltasTop10: mean= 0.00, std= 1.00\n",
      "         creepsPerMinDeltasJungle10: mean= 0.00, std= 1.00\n",
      "             xpPerMinDeltasBottom10: mean=-0.00, std= 1.00\n",
      "             xpPerMinDeltasMiddle10: mean=-0.00, std= 1.00\n",
      "                xpPerMinDeltasTop10: mean=-0.00, std= 1.00\n",
      "             xpPerMinDeltasJungle10: mean=-0.00, std= 1.00\n",
      "    damageTakenPerMinDeltasBottom10: mean= 0.00, std= 1.00\n",
      "    damageTakenPerMinDeltasMiddle10: mean= 0.00, std= 1.00\n",
      "       damageTakenPerMinDeltasTop10: mean= 0.00, std= 1.00\n",
      "    damageTakenPerMinDeltasJungle10: mean=-0.00, std= 1.00\n"
     ]
    }
   ],
   "source": [
    "for f, _, _ in features:\n",
    "    if f == 'redWin':\n",
    "        continue\n",
    "    data[f] = (data[f]-np.mean(data[f]))/np.std(data[f])\n",
    "    \n",
    "    print(f\"{f:>35}: mean={np.mean(data[f]):>5.2f}, std={np.std(data[f]):>5.2f}\")"
   ]
  },
  {
   "cell_type": "markdown",
   "metadata": {},
   "source": [
    "## Exploring the Data"
   ]
  },
  {
   "cell_type": "code",
   "execution_count": 25,
   "metadata": {
    "scrolled": false
   },
   "outputs": [
    {
     "data": {
      "image/png": "[encoded data removed]",
      "text/plain": [
       "<Figure size 1584x1296 with 2 Axes>"
      ]
     },
     "metadata": {},
     "output_type": "display_data"
    }
   ],
   "source": [
    "# Compute the correlation matrix\n",
    "corr = np.zeros((len(features), len(features)), dtype='float32')\n",
    "\n",
    "for f1_i, (f1, _, _) in enumerate(features):\n",
    "    for f2_i, (f2, _, _) in enumerate(features):\n",
    "        corr[f1_i, f2_i] = np.corrcoef(data[f1], data[f2])[0, 1]\n",
    "\n",
    "# Generate a mask for the upper triangle\n",
    "mask = np.zeros_like(corr, dtype=np.bool)\n",
    "mask[np.triu_indices_from(mask)] = True\n",
    "\n",
    "# Set up the matplotlib figure\n",
    "f, ax = plt.subplots(figsize=(22, 18))\n",
    "\n",
    "# Generate a custom diverging colormap\n",
    "cmap = sb.diverging_palette(220, 10, as_cmap=True)\n",
    "\n",
    "# Draw the heatmap with the mask and correct aspect ratio\n",
    "_ = sb.heatmap(\n",
    "    corr, mask=mask, cmap=cmap, vmin=-1, vmax=1,\n",
    "    linewidths=.5, cbar_kws={\"shrink\": .5},\n",
    "    ax=ax, # annot=True,\n",
    "    xticklabels=tuple(f for f, _, _ in features),\n",
    "    yticklabels=tuple(f for f, _, _ in features))"
   ]
  },
  {
   "cell_type": "markdown",
   "metadata": {},
   "source": [
    "## Logistic Model"
   ]
  },
  {
   "cell_type": "code",
   "execution_count": 9,
   "metadata": {
    "scrolled": false
   },
   "outputs": [
    {
     "name": "stdout",
     "output_type": "stream",
     "text": [
      "redWin ~ firstDragon \n",
      "       + firstRiftHerald \n",
      "       + firstBlood \n",
      "       + firstTower \n",
      "       + anyFirstTowerAssist \n",
      "       + sumFirstTowerAssist \n",
      "       + goldPerMinDeltasBottom10 \n",
      "       + goldPerMinDeltasMiddle10 \n",
      "       + goldPerMinDeltasTop10 \n",
      "       + goldPerMinDeltasJungle10 \n",
      "       + creepsPerMinDeltasBottom10 \n",
      "       + creepsPerMinDeltasMiddle10 \n",
      "       + creepsPerMinDeltasTop10 \n",
      "       + creepsPerMinDeltasJungle10 \n",
      "       + xpPerMinDeltasBottom10 \n",
      "       + xpPerMinDeltasMiddle10 \n",
      "       + xpPerMinDeltasTop10 \n",
      "       + xpPerMinDeltasJungle10 \n",
      "       + damageTakenPerMinDeltasBottom10 \n",
      "       + damageTakenPerMinDeltasMiddle10 \n",
      "       + damageTakenPerMinDeltasTop10 \n",
      "       + damageTakenPerMinDeltasJungle10\n",
      "\n"
     ]
    }
   ],
   "source": [
    "model_equation = f\"redWin ~ {' + '.join(f for f, _, _ in features if f != 'redWin' and 'Red' not in f and 'Blue' not in f)}\"\n",
    "indent = ' '.join('' for _ in range(len(model_equation.split('~')[0])+1))\n",
    "print(model_equation.replace('+', f\"\\n{indent}+\"), end='\\n\\n')"
   ]
  },
  {
   "cell_type": "code",
   "execution_count": 17,
   "metadata": {},
   "outputs": [],
   "source": [
    "needed_columns = tuple((f, t, e) for f, t, e in features if f != 'redWin' and 'Red' not in f and 'Blue' not in f)+((features[0]),)\n",
    "\n",
    "needed_data = np.zeros(len(data), dtype=[(f, t) for f, t, _ in needed_columns])\n",
    "\n",
    "for f, _, _ in needed_columns:\n",
    "    needed_data[f] = data[f]\n",
    "\n",
    "data = needed_data\n",
    "features = needed_columns"
   ]
  },
  {
   "cell_type": "code",
   "execution_count": null,
   "metadata": {},
   "outputs": [
    {
     "name": "stdout",
     "output_type": "stream",
     "text": [
      "Intercept                              0.00\n",
      "firstDragon                           -7.83\n",
      "firstRiftHerald                       -7.83\n",
      "firstBlood                            -7.83\n",
      "firstTower                            -7.83\n",
      "anyFirstTowerAssist                   -7.83\n",
      "sumFirstTowerAssist                   -7.83\n",
      "goldPerMinDeltasBottom10              -7.83\n",
      "goldPerMinDeltasMiddle10              -7.83\n",
      "goldPerMinDeltasTop10                 -7.83\n",
      "goldPerMinDeltasJungle10              -7.83\n",
      "creepsPerMinDeltasBottom10            -7.83\n",
      "creepsPerMinDeltasMiddle10            -7.83\n",
      "creepsPerMinDeltasTop10               -7.83\n",
      "creepsPerMinDeltasJungle10            -7.83\n",
      "xpPerMinDeltasBottom10                -7.83\n",
      "xpPerMinDeltasMiddle10                -7.83\n",
      "xpPerMinDeltasTop10                   -7.83\n",
      "xpPerMinDeltasJungle10                -7.83\n",
      "damageTakenPerMinDeltasBottom10       -7.83\n",
      "damageTakenPerMinDeltasMiddle10       -7.83\n",
      "damageTakenPerMinDeltasTop10          -7.83\n",
      "damageTakenPerMinDeltasJungle10       -7.83\n",
      "y                                 -82919.81\n",
      "Name: Log-probability of test_point, dtype: float64\n"
     ]
    },
    {
     "name": "stderr",
     "output_type": "stream",
     "text": [
      "Auto-assigning NUTS sampler...\n",
      "Initializing NUTS using advi_map...\n",
      "logp = -62,974, ||grad|| = 1.5071: 100%|███████████████████████████████████████████████| 52/52 [00:02<00:00, 24.81it/s]\n",
      "Average Loss = inf:   2%|█▏                                                    | 4352/200000 [02:19<1:47:15, 30.40it/s]\n",
      "Interrupted at 4,353 [2%]: Average Loss = 1.049e+05\n",
      "Multiprocess sampling (2 chains in 2 jobs)\n",
      "NUTS: [damageTakenPerMinDeltasJungle10, damageTakenPerMinDeltasTop10, damageTakenPerMinDeltasMiddle10, damageTakenPerMinDeltasBottom10, xpPerMinDeltasJungle10, xpPerMinDeltasTop10, xpPerMinDeltasMiddle10, xpPerMinDeltasBottom10, creepsPerMinDeltasJungle10, creepsPerMinDeltasTop10, creepsPerMinDeltasMiddle10, creepsPerMinDeltasBottom10, goldPerMinDeltasJungle10, goldPerMinDeltasTop10, goldPerMinDeltasMiddle10, goldPerMinDeltasBottom10, sumFirstTowerAssist, anyFirstTowerAssist, firstTower, firstBlood, firstRiftHerald, firstDragon, Intercept]\n"
     ]
    }
   ],
   "source": [
    "with pm.Model() as logistic_model:\n",
    "    pm.glm.GLM.from_formula(model_equation, data, family=pm.glm.families.Binomial())\n",
    "    print(logistic_model.check_test_point())\n",
    "    trace_logistic_model = pm.sample(\n",
    "        2000,\n",
    "        chains=None,\n",
    "        tune=1000,\n",
    "        init='advi_map')"
   ]
  },
  {
   "cell_type": "markdown",
   "metadata": {},
   "source": [
    "## Analyze Results"
   ]
  },
  {
   "cell_type": "code",
   "execution_count": null,
   "metadata": {
    "scrolled": false
   },
   "outputs": [],
   "source": [
    "def plot_traces(traces, retain=1000):\n",
    "    '''\n",
    "    Convenience function:\n",
    "    Plot traces with overlaid means and values\n",
    "    '''\n",
    "\n",
    "    ax = pm.traceplot(traces[-retain:], figsize=(12,len(traces.varnames)*1.5),\n",
    "        lines={k: v['mean'] for k, v in pm.summary(traces[-retain:]).iterrows()})\n",
    "\n",
    "    for i, mn in enumerate(pm.summary(traces[-retain:])['mean']):\n",
    "        ax[i,0].annotate('{:.2f}'.format(mn), xy=(mn,0), xycoords='data'\n",
    "                    ,xytext=(5,10), textcoords='offset points', rotation=90\n",
    "                    ,va='bottom', fontsize='large', color='#AA0022')\n",
    "\n",
    "plot_traces(trace_logistic_model, retain=1000)"
   ]
  },
  {
   "cell_type": "code",
   "execution_count": null,
   "metadata": {},
   "outputs": [],
   "source": [
    "for mean, name in sorted(zip(pm.summary(trace_logistic_model[-1000:])['mean'], trace_logistic_model.varnames), reverse=True):\n",
    "    print(f\"{name:>35}: {mean:5.2f}\")"
   ]
  },
  {
   "cell_type": "code",
   "execution_count": null,
   "metadata": {},
   "outputs": [],
   "source": [
    "def generate_blue_red_factor_differences(trace, retain=1000):\n",
    "    factors = {name: mean for mean, name in zip(pm.summary(trace_logistic_model[-1000:])['mean'], trace_logistic_model.varnames)}\n",
    "    for key in ('goldPerMinDeltas', 'creepsPerMinDeltas', 'xpPerMinDeltas', 'damageTakenPerMinDeltas'):\n",
    "        for lane in ('BOTTOM', 'MIDDLE', 'TOP', 'JUNGLE'):\n",
    "            k1 = f\"{key}Red{lane.title()}10\"\n",
    "            k2 = f\"{key}Blue{lane.title()}10\"\n",
    "            yield factors[k1]+factors[k2], f\"{key}{lane.title()}10\""
   ]
  },
  {
   "cell_type": "code",
   "execution_count": null,
   "metadata": {},
   "outputs": [],
   "source": [
    "for m, n in sorted(generate_blue_red_factor_differences(trace_logistic_model), reverse=True):\n",
    "    print(f\"{n:>35}: {m:5.2f}\")"
   ]
  },
  {
   "cell_type": "code",
   "execution_count": null,
   "metadata": {},
   "outputs": [],
   "source": []
  }
 ],
 "metadata": {
  "kernelspec": {
   "display_name": "Python 3",
   "language": "python",
   "name": "python3"
  },
  "language_info": {
   "codemirror_mode": {
    "name": "ipython",
    "version": 3
   },
   "file_extension": ".py",
   "mimetype": "text/x-python",
   "name": "python",
   "nbconvert_exporter": "python",
   "pygments_lexer": "ipython3",
   "version": "3.6.8"
  }
 },
 "nbformat": 4,
 "nbformat_minor": 2
}
