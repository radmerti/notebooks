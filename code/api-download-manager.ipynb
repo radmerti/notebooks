{
 "cells": [
  {
   "cell_type": "markdown",
   "metadata": {},
   "source": [
    "# Request Manager\n",
    "\n",
    "Requests can be added through a asyncio-ready and thread-safe API. The manager schedules them and makes sure that a set of rate limits is not exceeded.\n",
    "\n",
    "For examples for a League of Legends Development Key the following rate limits apply:\n",
    "* 20 requests every 1 seconds\n",
    "* 100 requests every 2 minutes"
   ]
  },
  {
   "cell_type": "code",
   "execution_count": 1,
   "metadata": {},
   "outputs": [],
   "source": [
    "from concurrent.futures import ThreadPoolExecutor\n",
    "from multiprocessing import cpu_count"
   ]
  },
  {
   "cell_type": "code",
   "execution_count": null,
   "metadata": {},
   "outputs": [],
   "source": [
    "class RequestManager():\n",
    "    def __init__(self, key: str, limits: tuple):\n",
    "        pass\n",
    "    \n",
    "    async add_async(self, request):\n",
    "        pass\n",
    "    \n",
    "    add(self, request):\n",
    "        pass"
   ]
  }
 ],
 "metadata": {
  "kernelspec": {
   "display_name": "Python 3",
   "language": "python",
   "name": "python3"
  },
  "language_info": {
   "codemirror_mode": {
    "name": "ipython",
    "version": 3
   },
   "file_extension": ".py",
   "mimetype": "text/x-python",
   "name": "python",
   "nbconvert_exporter": "python",
   "pygments_lexer": "ipython3",
   "version": "3.6.5"
  }
 },
 "nbformat": 4,
 "nbformat_minor": 2
}
