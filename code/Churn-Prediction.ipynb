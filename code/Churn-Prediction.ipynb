{
 "cells": [
  {
   "cell_type": "markdown",
   "metadata": {},
   "source": [
    "# Churn Prediction\n",
    "## Load the data"
   ]
  },
  {
   "cell_type": "markdown",
   "metadata": {},
   "source": [
    "First load the training and test set data."
   ]
  },
  {
   "cell_type": "code",
   "execution_count": 1,
   "metadata": {},
   "outputs": [],
   "source": [
    "import pandas as pd\n",
    "\n",
    "# specify the separator and how to handle missing values\n",
    "train_set = pd.read_csv('train.csv', sep=',', keep_default_na=True, na_values=[''], engine='c')\n",
    "test_set = pd.read_csv('test.csv', sep=',', keep_default_na=True, na_values=[''], engine='c')"
   ]
  },
  {
   "cell_type": "markdown",
   "metadata": {},
   "source": [
    "I saved the IDs of the test set customers so that I can directly\n",
    "access them later, however the test set customers also have missing\n",
    "values for the target variable ('churn'). After I saved the test IDs\n",
    "I can set the 'Customer_ID' variable for both parts."
   ]
  },
  {
   "cell_type": "code",
   "execution_count": 2,
   "metadata": {},
   "outputs": [],
   "source": [
    "# save the IDs of the customers from the test set for later\n",
    "test_Customer_IDs = test_set['Customer_ID']\n",
    "\n",
    "# make the Customer_ID column the index\n",
    "train_set.set_index('Customer_ID', inplace=True)\n",
    "test_set.set_index('Customer_ID', inplace=True)"
   ]
  },
  {
   "cell_type": "markdown",
   "metadata": {},
   "source": [
    "Next, I concatenate the training and test set into on DataFrame. This makes\n",
    "preprocessing easy every step is automatically applied to both parts."
   ]
  },
  {
   "cell_type": "code",
   "execution_count": 3,
   "metadata": {},
   "outputs": [],
   "source": [
    "# Concatenate the training and test set for easier and\n",
    "# coherent preprocessing.\n",
    "data = pd.concat([train_set, test_set], sort=True)\n",
    "\n",
    "del train_set, test_set"
   ]
  },
  {
   "cell_type": "markdown",
   "metadata": {},
   "source": [
    "Pandas won't print all columns of the DataFrame since it has\n",
    "172 columns. Hence, I just print them here one by one:"
   ]
  },
  {
   "cell_type": "code",
   "execution_count": 4,
   "metadata": {
    "scrolled": false
   },
   "outputs": [
    {
     "name": "stdout",
     "output_type": "stream",
     "text": [
      "  1: HHstatin\n",
      "  2: REF_QTY\n",
      "  3: actvsubs\n",
      "  4: adjmou\n",
      "  5: adjqty\n",
      "  6: adjrev\n",
      "  7: adults\n",
      "  8: age1\n",
      "  9: age2\n",
      " 10: area\n",
      " 11: asl_flag\n",
      " 12: attempt_Mean\n",
      " 13: attempt_Range\n",
      " 14: avg3mou\n",
      " 15: avg3qty\n",
      " 16: avg3rev\n",
      " 17: avg6mou\n",
      " 18: avg6qty\n",
      " 19: avg6rev\n",
      " 20: avgmou\n",
      " 21: avgqty\n",
      " 22: avgrev\n",
      " 23: blck_dat_Mean\n",
      " 24: blck_dat_Range\n",
      " 25: blck_vce_Mean\n",
      " 26: blck_vce_Range\n",
      " 27: callfwdv_Mean\n",
      " 28: callfwdv_Range\n",
      " 29: callwait_Mean\n",
      " 30: callwait_Range\n",
      " 31: car_buy\n",
      " 32: cartype\n",
      " 33: cc_mou_Mean\n",
      " 34: cc_mou_Range\n",
      " 35: ccrndmou_Mean\n",
      " 36: ccrndmou_Range\n",
      " 37: change_mou\n",
      " 38: change_rev\n",
      " 39: children\n",
      " 40: churn\n",
      " 41: comp_dat_Mean\n",
      " 42: comp_dat_Range\n",
      " 43: comp_vce_Mean\n",
      " 44: comp_vce_Range\n",
      " 45: complete_Mean\n",
      " 46: complete_Range\n",
      " 47: crclscod\n",
      " 48: creditcd\n",
      " 49: crtcount\n",
      " 50: csa\n",
      " 51: custcare_Mean\n",
      " 52: custcare_Range\n",
      " 53: da_Mean\n",
      " 54: da_Range\n",
      " 55: datovr_Mean\n",
      " 56: datovr_Range\n",
      " 57: div_type\n",
      " 58: drop_blk_Mean\n",
      " 59: drop_blk_Range\n",
      " 60: drop_dat_Mean\n",
      " 61: drop_dat_Range\n",
      " 62: drop_vce_Mean\n",
      " 63: drop_vce_Range\n",
      " 64: dualband\n",
      " 65: dwllsize\n",
      " 66: dwlltype\n",
      " 67: educ1\n",
      " 68: eqpdays\n",
      " 69: ethnic\n",
      " 70: forgntvl\n",
      " 71: hnd_price\n",
      " 72: hnd_webcap\n",
      " 73: income\n",
      " 74: infobase\n",
      " 75: inonemin_Mean\n",
      " 76: inonemin_Range\n",
      " 77: iwylis_vce_Mean\n",
      " 78: iwylis_vce_Range\n",
      " 79: kid0_2\n",
      " 80: kid11_15\n",
      " 81: kid16_17\n",
      " 82: kid3_5\n",
      " 83: kid6_10\n",
      " 84: last_swap\n",
      " 85: lor\n",
      " 86: mailflag\n",
      " 87: mailordr\n",
      " 88: mailresp\n",
      " 89: marital\n",
      " 90: models\n",
      " 91: months\n",
      " 92: mou_Mean\n",
      " 93: mou_Range\n",
      " 94: mou_cdat_Mean\n",
      " 95: mou_cdat_Range\n",
      " 96: mou_cvce_Mean\n",
      " 97: mou_cvce_Range\n",
      " 98: mou_opkd_Mean\n",
      " 99: mou_opkd_Range\n",
      "100: mou_opkv_Mean\n",
      "101: mou_opkv_Range\n",
      "102: mou_pead_Mean\n",
      "103: mou_pead_Range\n",
      "104: mou_peav_Mean\n",
      "105: mou_peav_Range\n",
      "106: mou_rvce_Mean\n",
      "107: mou_rvce_Range\n",
      "108: mouiwylisv_Mean\n",
      "109: mouiwylisv_Range\n",
      "110: mouowylisv_Mean\n",
      "111: mouowylisv_Range\n",
      "112: mtrcycle\n",
      "113: new_cell\n",
      "114: numbcars\n",
      "115: occu1\n",
      "116: opk_dat_Mean\n",
      "117: opk_dat_Range\n",
      "118: opk_vce_Mean\n",
      "119: opk_vce_Range\n",
      "120: ovrmou_Mean\n",
      "121: ovrmou_Range\n",
      "122: ovrrev_Mean\n",
      "123: ovrrev_Range\n",
      "124: ownrent\n",
      "125: owylis_vce_Mean\n",
      "126: owylis_vce_Range\n",
      "127: pcowner\n",
      "128: peak_dat_Mean\n",
      "129: peak_dat_Range\n",
      "130: peak_vce_Mean\n",
      "131: peak_vce_Range\n",
      "132: phones\n",
      "133: plcd_dat_Mean\n",
      "134: plcd_dat_Range\n",
      "135: plcd_vce_Mean\n",
      "136: plcd_vce_Range\n",
      "137: pre_hnd_price\n",
      "138: prizm_social_one\n",
      "139: proptype\n",
      "140: recv_sms_Mean\n",
      "141: recv_sms_Range\n",
      "142: recv_vce_Mean\n",
      "143: recv_vce_Range\n",
      "144: refurb_new\n",
      "145: retdays\n",
      "146: rev_Mean\n",
      "147: rev_Range\n",
      "148: rmcalls\n",
      "149: rmmou\n",
      "150: rmrev\n",
      "151: roam_Mean\n",
      "152: roam_Range\n",
      "153: rv\n",
      "154: solflag\n",
      "155: threeway_Mean\n",
      "156: threeway_Range\n",
      "157: tot_acpt\n",
      "158: tot_ret\n",
      "159: totcalls\n",
      "160: totmou\n",
      "161: totmrc_Mean\n",
      "162: totmrc_Range\n",
      "163: totrev\n",
      "164: truck\n",
      "165: unan_dat_Mean\n",
      "166: unan_dat_Range\n",
      "167: unan_vce_Mean\n",
      "168: unan_vce_Range\n",
      "169: uniqsubs\n",
      "170: vceovr_Mean\n",
      "171: vceovr_Range\n",
      "172: wrkwoman\n"
     ]
    }
   ],
   "source": [
    "for col_i, col in enumerate(data.columns):\n",
    "    print(f\"{col_i+1:>3}: {col}\")"
   ]
  },
  {
   "cell_type": "markdown",
   "metadata": {},
   "source": [
    "## Preprocessing\n",
    "\n",
    "I define a few lists of variables for selective pre-processing for those\n",
    "variables.\n",
    "\n",
    "* `preprocessing_drop` simply drops the variable.\n",
    "* `categorical_ordered` and `categorical_binary` are label encoded\n",
    "* `categorical_unordered` are label encoded and then dummy encoded (aka. one-hot encoding)"
   ]
  },
  {
   "cell_type": "code",
   "execution_count": 5,
   "metadata": {},
   "outputs": [],
   "source": [
    "# variables that are dropped\n",
    "preprocessing_drop = ['area']  # redundant with 'csa'\n",
    "\n",
    "# variables that are label encoded (\"foo\" to 0, \"bar\" to 1, etc.)\n",
    "# and then dummy encoded (one-hot encoding)\n",
    "categorical_unordered = [\n",
    "    'csa', 'prizm_social_one', 'div_type', 'dualband', 'hnd_webcap',\n",
    "    'occu1', 'marital', 'cartype', 'HHstatin', 'proptype', 'ethnic',\n",
    "    'ownrent', 'dwlltype', 'new_cell', 'refurb_new', 'children',\n",
    "    'infobase', 'mailflag', 'solflag', 'kid0_2', 'kid3_5', 'kid6_10',\n",
    "    'kid11_15', 'kid16_17','creditcd','car_buy']\n",
    "\n",
    "# variables that are label encoded\n",
    "categorical_ordered = ['dwllsize','crclscod']\n",
    "categorical_binary = ['mailordr','asl_flag','wrkwoman','mailresp','pcowner']\n",
    "\n",
    "preprocessing_date = ['last_swap']"
   ]
  },
  {
   "cell_type": "markdown",
   "metadata": {},
   "source": [
    "In the next steps I do all of the preprocessing."
   ]
  },
  {
   "cell_type": "markdown",
   "metadata": {},
   "source": [
    "#### Drop variables"
   ]
  },
  {
   "cell_type": "code",
   "execution_count": 6,
   "metadata": {},
   "outputs": [],
   "source": [
    "try:\n",
    "    data.drop(preprocessing_drop, axis=1, inplace=True)\n",
    "except KeyError:\n",
    "    # catch to allow executing the cell multiple times\n",
    "    pass"
   ]
  },
  {
   "cell_type": "markdown",
   "metadata": {},
   "source": [
    "#### Preprocess 'csa'\n",
    "\n",
    "Make the missing values of the csa column appear at the end\n",
    "by setting them to 'ZZZZZZ'. Then trunkate all entries in\n",
    "by to only the first 3 characters. This reduces the number\n",
    "distinct classes."
   ]
  },
  {
   "cell_type": "code",
   "execution_count": 7,
   "metadata": {},
   "outputs": [],
   "source": [
    "data.loc[data.loc[:,'csa'].isnull(), 'csa'] = 'ZZZZZZ'\n",
    "data['csa'] = data['csa'].map(lambda x: x[:3])"
   ]
  },
  {
   "cell_type": "markdown",
   "metadata": {},
   "source": [
    "#### Preprocess date columns\n",
    "\n",
    "Convert the variable from a string to a pandas datetime\n",
    "column. Then reduce the number of classes in the\n",
    "categorical variable by limiting the date to year,\n",
    "month and day."
   ]
  },
  {
   "cell_type": "code",
   "execution_count": 8,
   "metadata": {},
   "outputs": [],
   "source": [
    "data.loc[:, 'last_swap'] = pd.to_datetime(data.loc[:, 'last_swap'])\n",
    "data.loc[:, 'last_swap'] = data.loc[:, 'last_swap'].dt.strftime('%Y-%m-%d')\n",
    "# TODO: add time since last swap?"
   ]
  },
  {
   "cell_type": "code",
   "execution_count": 11,
   "metadata": {},
   "outputs": [],
   "source": [
    "# \"Missing values for this variable can be assumed to mean there have been no retention calls made by the customer.\"\n",
    "data.loc[data.loc[:, 'retdays'].isnull(), 'retdays'] = 0\n",
    "# assume avg 3 month minutes for missing values in 6 month minutes\n",
    "data.loc[data.loc[:,'avg6mou'].isnull(), 'avg6mou'] = data.loc[data.loc[:, 'avg6mou'].isnull(), 'avg3mou']\n",
    "data.loc[data.loc[:,'avg6qty'].isnull(), 'avg6qty'] = data.loc[data.loc[:, 'avg6qty'].isnull(), 'avg3qty']\n",
    "data.loc[data.loc[:,'avg6rev'].isnull(), 'avg6rev'] = data.loc[data.loc[:, 'avg6rev'].isnull(), 'avg3rev']\n",
    "# NaNs in age1/age2 should be 0!? (\"00 = default\")\n",
    "data.loc[data.loc[:, 'age1'].isnull(), 'age1'] = 0\n",
    "data.loc[data.loc[:, 'age2'].isnull(), 'age2'] = 0\n",
    "# \"Missing signifies an absence of calls into the retention team.\" !\n",
    "data.loc[data.loc[:, 'tot_ret'].isnull(), 'tot_ret'] = 0\n",
    "# \"Missing signifies an absence of an offer from the retention team.\" -> add '-1' class\n",
    "data.loc[data.loc[:, 'tot_acpt'].isnull(), 'tot_acpt'] = -1\n",
    "# \"A missing value signifies an absence of referrals\" !\n",
    "data.loc[data.loc[:, 'REF_QTY'].isnull(), 'REF_QTY'] = 0\n",
    "# assume no credit card rating change for NaNs\n",
    "data.loc[data.loc[:, 'crtcount'].isnull(), 'crtcount'] = 0\n",
    "# assume no roaming calls, minutes and revenue for NaNs\n",
    "data.loc[data.loc[:, 'rmcalls'].isnull(), 'rmcalls'] = 0\n",
    "data.loc[data.loc[:, 'rmmou'].isnull(), 'rmmou'] = 0\n",
    "data.loc[data.loc[:, 'rmrev'].isnull(), 'rmrev'] = 0\n",
    "# if no current/previous handset price is not known assume 0 ?\n",
    "data.loc[data.loc[:, 'pre_hnd_price'].isnull(), 'pre_hnd_price'] = 0\n",
    "# if number of cars is not known assume 0 / new class\n",
    "data.loc[data.loc[:, 'numbcars'].isnull(), 'numbcars'] = 0\n",
    "# if education is not known create a new class -> 0\n",
    "data.loc[data.loc[:, 'educ1'].isnull(), 'educ1'] = 0"
   ]
  },
  {
   "cell_type": "markdown",
   "metadata": {},
   "source": [
    "#### LabelEncode"
   ]
  },
  {
   "cell_type": "code",
   "execution_count": 12,
   "metadata": {},
   "outputs": [],
   "source": [
    "from sklearn.preprocessing import LabelEncoder\n",
    "\n",
    "for column in categorical_unordered+categorical_ordered+categorical_binary+preprocessing_date:\n",
    "    # replace float-NaNs with string 'ZZZ' (as to make sure it is ordered last) for python 3.x\n",
    "    data.loc[data.loc[:,column].isnull(),column] = 'ZZZZZ'\n",
    "    data.loc[:,column] = LabelEncoder().fit_transform(data.loc[:,column])"
   ]
  },
  {
   "cell_type": "markdown",
   "metadata": {},
   "source": [
    "#### RandomForest based NA imputation"
   ]
  },
  {
   "cell_type": "code",
   "execution_count": 50,
   "metadata": {},
   "outputs": [],
   "source": [
    "from datetime import datetime, timedelta, date\n",
    "\n",
    "start = datetime.strptime(\"2018-11-12\", \"%Y-%m-%d\").date()\n",
    "\n",
    "end = datetime.strptime(\"2018-12-10\", \"%Y-%m-%d\").date()\n",
    "\n",
    "dates = (start+timedelta(days) for days in range((end-start).days+1))"
   ]
  },
  {
   "cell_type": "code",
   "execution_count": 58,
   "metadata": {},
   "outputs": [],
   "source": [
    "from collections import namedtuple\n",
    "Point = namedtuple('Point', 'Index power_001 power_003, power_004 power_006')\n",
    "pt1 = Point(1.0, 5.0, 0, 0, 0)\n",
    "pt2 = Point(2.5, 1.5, 1, 1, 1)\n",
    "stream_ids = [1, 3, 4, 6]"
   ]
  },
  {
   "cell_type": "code",
   "execution_count": 60,
   "metadata": {},
   "outputs": [
    {
     "name": "stdout",
     "output_type": "stream",
     "text": [
      "1 5.0\n",
      "3 0\n",
      "4 0\n",
      "6 0\n"
     ]
    }
   ],
   "source": [
    "for s, v in zip(stream_ids, pt1[1:]):\n",
    "    print(s, v)"
   ]
  },
  {
   "cell_type": "code",
   "execution_count": 13,
   "metadata": {},
   "outputs": [
    {
     "name": "stdout",
     "output_type": "stream",
     "text": [
      "  1: lor\n",
      "  2: income\n",
      "  3: adults\n",
      "  4: truck\n",
      "  5: rv\n",
      "  6: mtrcycle\n",
      "  7: forgntvl\n",
      "  8: change_rev\n",
      "  9: change_mou\n",
      " 10: hnd_price\n",
      " 11: vceovr_Range\n",
      " 12: vceovr_Mean\n",
      " 13: totmrc_Range\n",
      " 14: totmrc_Mean\n",
      " 15: roam_Range\n",
      " 16: roam_Mean\n",
      " 17: rev_Range\n",
      " 18: rev_Mean\n",
      " 19: ovrrev_Range\n",
      " 20: ovrrev_Mean\n",
      " 21: ovrmou_Range\n",
      " 22: ovrmou_Mean\n",
      " 23: mou_Range\n",
      " 24: mou_Mean\n",
      " 25: datovr_Range\n",
      " 26: datovr_Mean\n",
      " 27: da_Range\n",
      " 28: da_Mean\n",
      " 29: phones\n",
      " 30: models\n",
      " 31: eqpdays\n",
      " DONE\n"
     ]
    }
   ],
   "source": [
    "categorical_imputation = ('lor', 'income', 'adults', 'truck', 'rv', 'mtrcycle','forgntvl', 'phones', 'models')\n",
    "\n",
    "from sklearn.ensemble import RandomForestClassifier, RandomForestRegressor\n",
    "\n",
    "# get a list of tuples (# missing values, column name)\n",
    "sorted_nans = sorted(\n",
    "    zip(\n",
    "        data.loc[:, data.isnull().sum() > 0].isnull().sum(),\n",
    "        data.loc[:, data.isnull().sum() > 0].columns),\n",
    "    reverse=True)\n",
    "\n",
    "# create a generator that yields the column names excep\n",
    "# for 'churn'. The missing values in the 'churn' variable\n",
    "# are from the test set!\n",
    "sorted_gen = (col for missing, col in sorted_nans if col != 'churn')\n",
    "\n",
    "for column_i, column in enumerate(sorted_gen):\n",
    "    print(f\"{column_i+1:>3}: {column}\")\n",
    "\n",
    "    y = data.loc[:, column]\n",
    "    X = data.loc[:, [col not in (column, 'churn') for col in data.columns]]\n",
    "\n",
    "    row_mask = (y.isnull()==0)\n",
    "    column_mask = X.loc[:,X.isnull().sum()<=0].columns\n",
    "\n",
    "    if column in categorical_imputation:\n",
    "        rfc = RandomForestClassifier(\n",
    "            n_estimators=10, criterion='gini', max_depth=6,\n",
    "            min_samples_split=2, min_samples_leaf=12, \n",
    "            max_features='auto', max_leaf_nodes=None, n_jobs=2)\n",
    "    else:\n",
    "        rfc = RandomForestRegressor(\n",
    "            n_estimators=10, criterion='mse', max_depth=6,\n",
    "            min_samples_split=2, min_samples_leaf=12, \n",
    "            max_features='auto', max_leaf_nodes=None, n_jobs=2)\n",
    "\n",
    "    rfc.fit(X.loc[row_mask, column_mask], y[row_mask])\n",
    "\n",
    "    data.loc[~row_mask, column] = rfc.predict(data.loc[~row_mask, column_mask])\n",
    "\n",
    "print(' DONE')"
   ]
  },
  {
   "cell_type": "markdown",
   "metadata": {},
   "source": [
    "#### Dummy Encode variables"
   ]
  },
  {
   "cell_type": "code",
   "execution_count": 12,
   "metadata": {},
   "outputs": [
    {
     "name": "stdout",
     "output_type": "stream",
     "text": [
      "went from 170 to 335 variables\n"
     ]
    }
   ],
   "source": [
    "n_columns_prev = len(data.columns)\n",
    "\n",
    "data = pd.get_dummies(\n",
    "    data=data, dummy_na=False,\n",
    "    columns=categorical_unordered)\n",
    "\n",
    "print(f\"went from {n_columns_prev-1} to {len(data.columns)-1} variables\")"
   ]
  },
  {
   "cell_type": "markdown",
   "metadata": {},
   "source": [
    "#### Clean Remaining NaNs"
   ]
  },
  {
   "cell_type": "code",
   "execution_count": 13,
   "metadata": {},
   "outputs": [
    {
     "name": "stdout",
     "output_type": "stream",
     "text": [
      "Index([], dtype='object')\n",
      "335 / 335 variables left\n"
     ]
    }
   ],
   "source": [
    "# remove columns which still have more than 250 (0.5%) missing values\n",
    "threashold = 250\n",
    "\n",
    "n_columns_prev = len(data.columns)\n",
    "n_missing = data.isnull().sum()\n",
    "\n",
    "print(data.loc[:, (m > threashold and c != 'churn' for m, c in zip(n_missing, data.columns))].columns)\n",
    "data = data.loc[:, (m <= threashold or c == 'churn' for m, c in zip(n_missing, data.columns))]\n",
    "\n",
    "print(f\"{len(data.columns)-1} / {n_columns_prev-1} variables left\")"
   ]
  },
  {
   "cell_type": "markdown",
   "metadata": {},
   "source": [
    "At this point there are no rows with missing values anymore:"
   ]
  },
  {
   "cell_type": "code",
   "execution_count": 14,
   "metadata": {},
   "outputs": [
    {
     "data": {
      "text/plain": [
       "0"
      ]
     },
     "execution_count": 14,
     "metadata": {},
     "output_type": "execute_result"
    }
   ],
   "source": [
    "(data.loc[:, (c for c in data.columns if c != 'churn')].isnull().sum(axis=1) > 0).sum()"
   ]
  },
  {
   "cell_type": "markdown",
   "metadata": {},
   "source": [
    "#### Scale Dataset"
   ]
  },
  {
   "cell_type": "code",
   "execution_count": 15,
   "metadata": {
    "scrolled": true
   },
   "outputs": [
    {
     "name": "stderr",
     "output_type": "stream",
     "text": [
      "C:\\Users\\RadmerT\\AppData\\Local\\Continuum\\miniconda3\\envs\\ml\\lib\\site-packages\\sklearn\\preprocessing\\data.py:617: DataConversionWarning: Data with input dtype uint8, int32, int64, float64 were all converted to float64 by StandardScaler.\n",
      "  return self.partial_fit(X, y)\n",
      "C:\\Users\\RadmerT\\AppData\\Local\\Continuum\\miniconda3\\envs\\ml\\lib\\site-packages\\ipykernel_launcher.py:5: DataConversionWarning: Data with input dtype uint8, int32, int64, float64 were all converted to float64 by StandardScaler.\n",
      "  \"\"\"\n"
     ]
    }
   ],
   "source": [
    "from sklearn.preprocessing import StandardScaler\n",
    "\n",
    "StdScaler = StandardScaler(copy=True)\n",
    "StdScaler = StdScaler.fit(data.loc[:, data.columns != 'churn'])\n",
    "data.loc[:, data.columns != 'churn'] = StdScaler.transform(data.loc[:, data.columns != 'churn'])"
   ]
  },
  {
   "cell_type": "markdown",
   "metadata": {},
   "source": [
    "#### Split dataset & optimize layout"
   ]
  },
  {
   "cell_type": "code",
   "execution_count": 16,
   "metadata": {},
   "outputs": [],
   "source": [
    "X_mask = [True if c != 'churn' else False for c in data.columns]\n",
    "y_mask = [True if c == 'churn' else False for c in data.columns]\n",
    "\n",
    "X_tr = data.iloc[:int(len(data)/2), X_mask].values.astype('float32')\n",
    "y_tr = data.iloc[:int(len(data)/2), y_mask].values.astype('float32')\n",
    "\n",
    "X_te = data.iloc[int(len(data)/2):, X_mask].values.astype('float32')\n",
    "y_te = data.iloc[int(len(data)/2):, y_mask].values.astype('float32')\n",
    "\n",
    "del data"
   ]
  },
  {
   "cell_type": "markdown",
   "metadata": {},
   "source": [
    "#### Generate Cross-Validation Splits"
   ]
  },
  {
   "cell_type": "code",
   "execution_count": 17,
   "metadata": {},
   "outputs": [],
   "source": [
    "from sklearn.model_selection import KFold\n",
    "\n",
    "kf = KFold(n_splits=5)\n",
    "data_splits = [(X_tr[tr], X_tr[va], y_tr[tr], y_tr[va]) for tr, va in kf.split(X_tr)]"
   ]
  },
  {
   "cell_type": "markdown",
   "metadata": {},
   "source": [
    "# Train Classifiers\n",
    "#### Define Scoring Function"
   ]
  },
  {
   "cell_type": "code",
   "execution_count": 32,
   "metadata": {},
   "outputs": [],
   "source": [
    "import numpy as np\n",
    "\n",
    "def calcLift(y, y_proba, percentile=0.1):\n",
    "    if len(np.shape(y_proba)) == 2:\n",
    "        y_lift = sorted(zip(y_proba[:,1], y), reverse=True)\n",
    "    else:\n",
    "        y_lift = sorted(zip(y_proba, y), reverse=True)\n",
    "    y_lift = [list(t) for t in zip(*y_lift)][1]\n",
    "    y_lift = y_lift[0:np.int32(len(y_lift)*percentile)]\n",
    "\n",
    "    Pi10 = np.sum(y_lift)/len(y_lift)\n",
    "    PiAll = np.sum(y)/len(y)\n",
    "    Lift10 = Pi10/PiAll\n",
    "    return Lift10\n",
    "\n",
    "def liftScorer(estimator, X, y):\n",
    "    y_proba = None\n",
    "    if hasattr(estimator, 'predict_proba'):\n",
    "        y_proba = estimator.predict_proba(X)\n",
    "    elif hasattr(estimator, 'decision_function'):\n",
    "        y_proba = estimator.decision_function(X)\n",
    "    else:\n",
    "        return 0.0\n",
    "    return calcLift(y, y_proba)\n",
    "\n",
    "def calcLiftCurve(y, y_proba):\n",
    "    PiAll_inv = 1.0/(np.sum(y)/len(y))\n",
    "    \n",
    "    if len(np.shape(y_proba)) == 2:\n",
    "        y_lift = sorted(zip(y_proba[:,1],y),reverse=True)\n",
    "    else:\n",
    "        y_lift = sorted(zip(y_proba,y),reverse=True)\n",
    "    y_lift = [list(t) for t in zip(*y_lift)][1]\n",
    "    \n",
    "    x_axis = np.linspace(0.0, 1.0, 101)\n",
    "    y_axis = np.zeros(np.shape(x_axis), dtype=np.float32)\n",
    "    for i, percentile in enumerate(x_axis):\n",
    "        y_percentile = y_lift[0:np.int32(len(y_lift)*percentile)]\n",
    "        y_axis[i] = (np.sum(y_percentile)/len(y_percentile))*PiAll_inv\n",
    "    return x_axis, y_axis"
   ]
  },
  {
   "cell_type": "markdown",
   "metadata": {},
   "source": [
    "#### Functions for Printing Results"
   ]
  },
  {
   "cell_type": "code",
   "execution_count": 57,
   "metadata": {},
   "outputs": [],
   "source": [
    "import numpy as np\n",
    "from sklearn.metrics import classification_report\n",
    "import matplotlib.pyplot as plt\n",
    "from sklearn.metrics import confusion_matrix\n",
    "\n",
    "%matplotlib inline\n",
    "\n",
    "def printLiftMeasureCV(scores):\n",
    "    print(u'{0:2.0f}% Lift Measure:\\t[{3:.3f}, {1:.3f}\\u00B1{2:0.3f}, {4:.3f}]\\n'\n",
    "          .format(0.1*100, np.mean(scores), np.std(scores), np.min(scores), np.max(scores)))\n",
    "    \n",
    "def printClassificationReport(y_pred, y_true, target_names=('NO CHURN', 'CHURN')):\n",
    "    print('Classification Report:\\n\\n', classification_report(y_true, y_pred, target_names=target_names))\n",
    "    \n",
    "def printVariableImportance(feature_importances, column_names):\n",
    "    importance = sorted(zip(feature_importances, column_names), reverse=True)\n",
    "    f1, f2, f3, f4, f5 = importance[0:20], importance[20:40], importance[40:60], importance[60:80], importance[80:100]\n",
    "    print('\\nTop100 Variable Importance:\\n')\n",
    "    for r1,r2,r3,r4,r5 in zip(f1,f2,f3,f4,f5):\n",
    "        print('{0:.2f} {1:17} {2:.2f} {3:17} {4:.2f} {5:17} {6:.2f} {7:17} {8:.2f} {9:17}'\n",
    "              .format(r1[0],r1[1][0:21],r2[0],r2[1][0:21],r3[0],r3[1][0:21],r4[0],r4[1][0:21],r5[0],r5[1][0:21]))\n",
    "        \n",
    "def plot_confusion_matrix(cm, axis, title='Confusion matrix', cmap=plt.cm.Blues, target_names=['NO CHURN', 'CHURN']):\n",
    "    cm_norm = cm.astype('float') / cm.sum(axis=1)[:, np.newaxis]\n",
    "    plt.imshow(cm_norm, interpolation='nearest', cmap=cmap)\n",
    "    plt.title(title)\n",
    "    plt.colorbar()\n",
    "    tick_marks = np.arange(len(target_names))\n",
    "    plt.xticks(tick_marks, target_names, rotation=45)\n",
    "    plt.yticks(tick_marks, target_names)\n",
    "    plt.tight_layout()\n",
    "    plt.ylabel('True label')\n",
    "    plt.xlabel('Predicted label')\n",
    "    for i in [0,1]:\n",
    "        for j in [0,1]:\n",
    "            axis.annotate(str('{0}\\n({1:.2f})'.format(cm[j][i], cm_norm[j][i])), xy=(i-0.1,j+0.06))"
   ]
  },
  {
   "cell_type": "markdown",
   "metadata": {},
   "source": [
    "#### Save/Load Models"
   ]
  },
  {
   "cell_type": "code",
   "execution_count": 26,
   "metadata": {},
   "outputs": [],
   "source": [
    "import pickle\n",
    "\n",
    "def saveModel(model, model_name):\n",
    "    with open(model_name, 'wb') as f:\n",
    "        pickle.dump(model, f)\n",
    "        \n",
    "def loadModel(model_name):\n",
    "    with open(model_name, 'rb') as f:\n",
    "        return pickle.load(f)"
   ]
  },
  {
   "cell_type": "markdown",
   "metadata": {},
   "source": [
    "### Logistic Regression"
   ]
  },
  {
   "cell_type": "code",
   "execution_count": 36,
   "metadata": {},
   "outputs": [
    {
     "name": "stdout",
     "output_type": "stream",
     "text": [
      "10% Lift Measure:\t[1.254, 1.308±0.054, 1.361]\n",
      "\n"
     ]
    },
    {
     "name": "stderr",
     "output_type": "stream",
     "text": [
      "C:\\Users\\RadmerT\\AppData\\Local\\Continuum\\miniconda3\\envs\\ml\\lib\\site-packages\\sklearn\\linear_model\\logistic.py:436: FutureWarning: Default solver will be changed to 'lbfgs' in 0.22. Specify a solver to silence this warning.\n",
      "  FutureWarning)\n",
      "C:\\Users\\RadmerT\\AppData\\Local\\Continuum\\miniconda3\\envs\\ml\\lib\\site-packages\\sklearn\\utils\\validation.py:752: DataConversionWarning: A column-vector y was passed when a 1d array was expected. Please change the shape of y to (n_samples, ), for example using ravel().\n",
      "  y = column_or_1d(y, warn=True)\n"
     ]
    }
   ],
   "source": [
    "from sklearn.linear_model import LogisticRegression\n",
    "from sklearn.model_selection import cross_val_score\n",
    "\n",
    "if __name__ == \"__main__\":\n",
    "    LogReg = LogisticRegression(\n",
    "        penalty='l2', tol=0.0001,\n",
    "        class_weight=None, random_state=None,\n",
    "        solver='lbfgs', max_iter=100, \n",
    "        dual=False, # n_samples > n_features?False:True\n",
    "        C=100.0)\n",
    "\n",
    "    lift_scores = cross_val_score(\n",
    "        LogReg, X_tr, y=y_tr, scoring=liftScorer, \n",
    "        cv=10, n_jobs=2, verbose=0, pre_dispatch='2*n_jobs')\n",
    "\n",
    "    printLiftMeasureCV(lift_scores)\n",
    "    \n",
    "    LogReg.fit(X_tr, y_tr)\n",
    "\n",
    "    saveModel(LogReg, 'model.LogReg')"
   ]
  },
  {
   "cell_type": "code",
   "execution_count": 49,
   "metadata": {
    "scrolled": false
   },
   "outputs": [
    {
     "name": "stderr",
     "output_type": "stream",
     "text": [
      "C:\\Users\\RadmerT\\AppData\\Local\\Continuum\\miniconda3\\envs\\ml\\lib\\site-packages\\ipykernel_launcher.py:39: RuntimeWarning: invalid value encountered in double_scalars\n"
     ]
    },
    {
     "name": "stdout",
     "output_type": "stream",
     "text": [
      "Classification Report:\n",
      "\n",
      "               precision    recall  f1-score   support\n",
      "\n",
      "    NO CHURN       0.61      0.62      0.61     25219\n",
      "       CHURN       0.60      0.59      0.60     24781\n",
      "\n",
      "   micro avg       0.61      0.61      0.61     50000\n",
      "   macro avg       0.61      0.61      0.61     50000\n",
      "weighted avg       0.61      0.61      0.61     50000\n",
      "\n",
      "\n",
      "Top100 Variable Importance:\n",
      "\n",
      "1.98 phones            0.14 cc_mou_Range      0.03 mouiwylisv_Range  0.01 unan_dat_Mean     -0.00 age1             \n",
      "1.40 totmrc_Mean       0.14 cc_mou_Mean       0.03 mou_opkd_Mean     0.01 recv_sms_Mean     -0.00 kid16_17         \n",
      "0.93 rev_Range         0.14 blck_dat_Mean     0.03 mtrcycle          0.01 recv_sms_Range    -0.00 mailflag         \n",
      "0.93 avgrev            0.12 adjmou            0.03 solflag           0.01 kid6_10           -0.00 peak_dat_Mean    \n",
      "0.84 recv_vce_Mean     0.12 prizm_social_one  0.02 plcd_vce_Mean     0.01 asl_flag          -0.00 peak_vce_Mean    \n",
      "0.34 roam_Range        0.11 vceovr_Range      0.02 pcowner           0.01 numbcars          -0.01 refurb_new       \n",
      "0.31 callwait_Mean     0.10 mou_rvce_Mean     0.02 attempt_Range     0.01 forgntvl          -0.01 proptype         \n",
      "0.29 adjqty            0.09 da_Range          0.02 area              0.01 drop_vce_Mean     -0.01 actvsubs         \n",
      "0.25 crclscod          0.08 peak_vce_Range    0.02 avg3qty           0.01 drop_blk_Range    -0.01 inonemin_Range   \n",
      "0.25 truck             0.07 attempt_Mean      0.02 opk_dat_Range     0.00 callfwdv_Mean     -0.01 mou_cdat_Range   \n",
      "0.23 new_cell          0.07 crtcount          0.02 rmcalls           0.00 datovr_Range      -0.01 mouiwylisv_Mean  \n",
      "0.21 pre_hnd_price     0.06 ccrndmou_Mean     0.02 totrev            0.00 mailresp          -0.01 unan_vce_Mean    \n",
      "0.21 mou_cvce_Range    0.05 avgqty            0.02 complete_Range    0.00 car_buy           -0.01 rv               \n",
      "0.20 dwlltype          0.04 adjrev            0.02 kid0_2            0.00 mou_opkd_Range    -0.01 kid3_5           \n",
      "0.20 mou_pead_Range    0.04 HHstatin          0.02 comp_vce_Range    0.00 retdays           -0.01 comp_dat_Mean    \n",
      "0.18 iwylis_vce_Mean   0.03 blck_dat_Range    0.01 dwllsize          0.00 income            -0.01 avg3rev          \n",
      "0.18 avgmou            0.03 eqpdays           0.01 age2              0.00 opk_vce_Range     -0.01 drop_vce_Range   \n",
      "0.18 avg6rev           0.03 tot_ret           0.01 mou_peav_Mean     0.00 plcd_vce_Range    -0.01 owylis_vce_Mean  \n",
      "0.15 div_type          0.03 comp_dat_Range    0.01 mou_peav_Range    0.00 change_rev        -0.01 uniqsubs         \n",
      "0.15 owylis_vce_Range  0.03 avg6mou           0.01 drop_blk_Mean     -0.00 ovrrev_Mean       -0.01 infobase         \n"
     ]
    }
   ],
   "source": [
    "LogReg = loadModel('model.LogReg')\n",
    "\n",
    "x_lift_curve, y_lift_curve_lr = calcLiftCurve(y_te, LogReg.predict_proba(X_te))\n",
    "\n",
    "y_pred = LogReg.predict(X_tr)\n",
    "printClassificationReport(y_pred, y_tr)\n",
    "printVariableImportance(LogReg.coef_[0], train_set.loc[:,train_set.columns != 'churn'].columns)"
   ]
  },
  {
   "cell_type": "markdown",
   "metadata": {},
   "source": [
    "### Gaussian Naive Bayes"
   ]
  },
  {
   "cell_type": "code",
   "execution_count": 51,
   "metadata": {},
   "outputs": [
    {
     "name": "stdout",
     "output_type": "stream",
     "text": [
      "10% Lift Measure:\t[1.088, 1.856±0.327, 2.018]\n",
      "\n"
     ]
    },
    {
     "name": "stderr",
     "output_type": "stream",
     "text": [
      "C:\\Users\\RadmerT\\AppData\\Local\\Continuum\\miniconda3\\envs\\ml\\lib\\site-packages\\sklearn\\utils\\validation.py:752: DataConversionWarning: A column-vector y was passed when a 1d array was expected. Please change the shape of y to (n_samples, ), for example using ravel().\n",
      "  y = column_or_1d(y, warn=True)\n"
     ]
    }
   ],
   "source": [
    "from sklearn.naive_bayes import GaussianNB\n",
    "from sklearn.model_selection import cross_val_score\n",
    "\n",
    "if __name__ == \"__main__\":\n",
    "    GaussNB = GaussianNB()\n",
    "    # CalGaussNB = CalibratedClassifierCV(base_estimator=GaussNB, method='isotonic', cv=4)\n",
    "    \n",
    "    lift_scores = cross_val_score(\n",
    "        GaussNB, X_tr, y=y_tr, scoring=liftScorer, \n",
    "        cv=10, n_jobs=2, verbose=0, pre_dispatch='2*n_jobs')\n",
    "    printLiftMeasureCV(lift_scores)\n",
    "    \n",
    "    GaussNB.fit(X_tr, y_tr)\n",
    "\n",
    "    saveModel(GaussNB, 'model.GaussNB')"
   ]
  },
  {
   "cell_type": "code",
   "execution_count": 59,
   "metadata": {
    "scrolled": false
   },
   "outputs": [
    {
     "name": "stderr",
     "output_type": "stream",
     "text": [
      "C:\\Users\\RadmerT\\AppData\\Local\\Continuum\\miniconda3\\envs\\ml\\lib\\site-packages\\ipykernel_launcher.py:30: RuntimeWarning: invalid value encountered in less\n",
      "C:\\Users\\RadmerT\\AppData\\Local\\Continuum\\miniconda3\\envs\\ml\\lib\\site-packages\\ipykernel_launcher.py:39: RuntimeWarning: invalid value encountered in double_scalars\n"
     ]
    },
    {
     "name": "stdout",
     "output_type": "stream",
     "text": [
      "Classification Report:\n",
      "\n",
      "               precision    recall  f1-score   support\n",
      "\n",
      "    NO CHURN       0.62      0.07      0.12     25219\n",
      "       CHURN       0.50      0.96      0.66     24781\n",
      "\n",
      "   micro avg       0.51      0.51      0.51     50000\n",
      "   macro avg       0.56      0.51      0.39     50000\n",
      "weighted avg       0.56      0.51      0.39     50000\n",
      "\n",
      "\n",
      "Top100 Variable Importance:\n",
      "\n",
      "0.23 callwait_Mean     0.02 cc_mou_Range      0.01 retdays           -0.01 peak_vce_Range    -0.01 avg6mou          \n",
      "0.14 pre_hnd_price     0.02 solflag           0.01 blck_dat_Mean     -0.01 creditcd          -0.01 blck_vce_Mean    \n",
      "0.12 hnd_price         0.02 blck_vce_Range    0.01 kid6_10           -0.01 owylis_vce_Range  -0.02 kid3_5           \n",
      "0.09 dwlltype          0.02 attempt_Range     0.00 age2              -0.01 avg3qty           -0.02 mailflag         \n",
      "0.07 mailordr          0.02 prizm_social_one  0.00 mou_peav_Range    -0.01 drop_dat_Mean     -0.02 drop_vce_Range   \n",
      "0.07 crclscod          0.02 div_type          0.00 unan_dat_Mean     -0.01 drop_vce_Mean     -0.02 callfwdv_Mean    \n",
      "0.07 avg6qty           0.02 dwllsize          0.00 mou_peav_Mean     -0.01 mtrcycle          -0.02 occu1            \n",
      "0.07 crtcount          0.02 age1              0.00 mailresp          -0.01 ovrmou_Mean       -0.02 change_rev       \n",
      "0.06 marital           0.02 ccrndmou_Mean     0.00 area              -0.01 truck             -0.02 Customer_ID      \n",
      "0.06 new_cell          0.02 tot_ret           -0.00 totrev            -0.01 avg6rev           -0.02 mou_cdat_Range   \n",
      "0.05 comp_vce_Range    0.01 tot_acpt          -0.00 mou_pead_Mean     -0.01 mou_opkd_Mean     -0.02 totcalls         \n",
      "0.05 actvsubs          0.01 numbcars          -0.00 proptype          -0.01 infobase          -0.02 cartype          \n",
      "0.05 recv_sms_Range    0.01 csa               -0.00 unan_vce_Mean     -0.01 adjqty            -0.02 callfwdv_Range   \n",
      "0.05 REF_QTY           0.01 forgntvl          -0.00 kid16_17          -0.01 inonemin_Mean     -0.02 children         \n",
      "0.05 HHstatin          0.01 kid0_2            -0.01 mou_rvce_Mean     -0.01 avg3mou           -0.02 rv               \n",
      "0.04 complete_Mean     0.01 income            -0.01 mou_cvce_Mean     -0.01 educ1             -0.02 rmcalls          \n",
      "0.04 custcare_Range    0.01 rmmou             -0.01 mou_Range         -0.01 opk_vce_Range     -0.02 unan_vce_Range   \n",
      "0.04 mou_Mean          0.01 car_buy           -0.01 callwait_Range    -0.01 mouiwylisv_Range  -0.02 inonemin_Range   \n",
      "0.03 eqpdays           0.01 opk_dat_Mean      -0.01 avgmou            -0.01 rev_Mean          -0.02 mou_rvce_Range   \n",
      "0.03 pcowner           0.01 attempt_Mean      -0.01 threeway_Range    -0.01 ovrmou_Range      -0.02 cc_mou_Mean      \n",
      "\n",
      "\n"
     ]
    },
    {
     "data": {
      "image/png": "[encoded data removed]",
      "text/plain": [
       "<Figure size 432x360 with 2 Axes>"
      ]
     },
     "metadata": {},
     "output_type": "display_data"
    }
   ],
   "source": [
    "GaussNB = loadModel('model.GaussNB')\n",
    "\n",
    "x_lift_curve, y_lift_curve_gnb = calcLiftCurve(y_te, GaussNB.predict_proba(X_te))\n",
    "\n",
    "y_pred = GaussNB.predict(X_tr)\n",
    "printClassificationReport(y_pred, y_tr)\n",
    "printVariableImportance(GaussNB.theta_[1]-GaussNB.theta_[0],train_set.loc[:,train_set.columns != 'churn'].columns)\n",
    "print('\\n')\n",
    "\n",
    "plt.figure(figsize=(6,5))\n",
    "ax2 = plt.subplot(1,1,1)\n",
    "plot_confusion_matrix(confusion_matrix(y_tr, y_pred), ax2, title='Confusion matrix')"
   ]
  },
  {
   "cell_type": "markdown",
   "metadata": {},
   "source": [
    "### Linear SVM"
   ]
  },
  {
   "cell_type": "code",
   "execution_count": 62,
   "metadata": {},
   "outputs": [
    {
     "name": "stdout",
     "output_type": "stream",
     "text": [
      "10% Lift Measure:\t[1.291, 1.367±0.048, 1.441]\n",
      "\n"
     ]
    },
    {
     "ename": "NotFittedError",
     "evalue": "This LinearSVC instance is not fitted yet",
     "output_type": "error",
     "traceback": [
      "\u001b[1;31m---------------------------------------------------------------------------\u001b[0m",
      "\u001b[1;31mNotFittedError\u001b[0m                            Traceback (most recent call last)",
      "\u001b[1;32m<ipython-input-62-e021af3a515f>\u001b[0m in \u001b[0;36m<module>\u001b[1;34m()\u001b[0m\n\u001b[0;32m     19\u001b[0m     \u001b[0mprintLiftMeasureCV\u001b[0m\u001b[1;33m(\u001b[0m\u001b[0mlift_scores\u001b[0m\u001b[1;33m)\u001b[0m\u001b[1;33m\u001b[0m\u001b[0m\n\u001b[0;32m     20\u001b[0m \u001b[1;33m\u001b[0m\u001b[0m\n\u001b[1;32m---> 21\u001b[1;33m     \u001b[0mx_lift_curve\u001b[0m\u001b[1;33m,\u001b[0m \u001b[0my_lift_curve_linsvm\u001b[0m \u001b[1;33m=\u001b[0m \u001b[0mcalcLiftCurve\u001b[0m\u001b[1;33m(\u001b[0m\u001b[0my_tr\u001b[0m\u001b[1;33m,\u001b[0m \u001b[0mLinSVM\u001b[0m\u001b[1;33m.\u001b[0m\u001b[0mdecision_function\u001b[0m\u001b[1;33m(\u001b[0m\u001b[0mX_tr\u001b[0m\u001b[1;33m)\u001b[0m\u001b[1;33m)\u001b[0m\u001b[1;33m\u001b[0m\u001b[0m\n\u001b[0m\u001b[0;32m     22\u001b[0m \u001b[1;33m\u001b[0m\u001b[0m\n\u001b[0;32m     23\u001b[0m     \u001b[0mLinSVM\u001b[0m\u001b[1;33m.\u001b[0m\u001b[0mfit\u001b[0m\u001b[1;33m(\u001b[0m\u001b[0mX_tr\u001b[0m\u001b[1;33m,\u001b[0m \u001b[0my_tr\u001b[0m\u001b[1;33m)\u001b[0m\u001b[1;33m\u001b[0m\u001b[0m\n",
      "\u001b[1;32m~\\AppData\\Local\\Continuum\\miniconda3\\envs\\ml\\lib\\site-packages\\sklearn\\linear_model\\base.py\u001b[0m in \u001b[0;36mdecision_function\u001b[1;34m(self, X)\u001b[0m\n\u001b[0;32m    253\u001b[0m         \u001b[1;32mif\u001b[0m \u001b[1;32mnot\u001b[0m \u001b[0mhasattr\u001b[0m\u001b[1;33m(\u001b[0m\u001b[0mself\u001b[0m\u001b[1;33m,\u001b[0m \u001b[1;34m'coef_'\u001b[0m\u001b[1;33m)\u001b[0m \u001b[1;32mor\u001b[0m \u001b[0mself\u001b[0m\u001b[1;33m.\u001b[0m\u001b[0mcoef_\u001b[0m \u001b[1;32mis\u001b[0m \u001b[1;32mNone\u001b[0m\u001b[1;33m:\u001b[0m\u001b[1;33m\u001b[0m\u001b[0m\n\u001b[0;32m    254\u001b[0m             raise NotFittedError(\"This %(name)s instance is not fitted \"\n\u001b[1;32m--> 255\u001b[1;33m                                  \"yet\" % {'name': type(self).__name__})\n\u001b[0m\u001b[0;32m    256\u001b[0m \u001b[1;33m\u001b[0m\u001b[0m\n\u001b[0;32m    257\u001b[0m         \u001b[0mX\u001b[0m \u001b[1;33m=\u001b[0m \u001b[0mcheck_array\u001b[0m\u001b[1;33m(\u001b[0m\u001b[0mX\u001b[0m\u001b[1;33m,\u001b[0m \u001b[0maccept_sparse\u001b[0m\u001b[1;33m=\u001b[0m\u001b[1;34m'csr'\u001b[0m\u001b[1;33m)\u001b[0m\u001b[1;33m\u001b[0m\u001b[0m\n",
      "\u001b[1;31mNotFittedError\u001b[0m: This LinearSVC instance is not fitted yet"
     ]
    }
   ],
   "source": [
    "from sklearn.svm import LinearSVC\n",
    "from sklearn.model_selection import cross_val_score\n",
    "\n",
    "if __name__ == \"__main__\":\n",
    "    LinSVM = LinearSVC(\n",
    "        penalty='l2', \n",
    "        loss='squared_hinge', \n",
    "        dual=False, # n_samples > n_features\n",
    "        tol=0.0001, \n",
    "        C=0.1, \n",
    "        fit_intercept=True, \n",
    "        class_weight=None, \n",
    "        max_iter=100)\n",
    "\n",
    "    lift_scores = cross_val_score(\n",
    "        LinSVM, X_tr, y=y_tr, scoring=liftScorer, \n",
    "        cv=10, n_jobs=2, verbose=0, pre_dispatch='2*n_jobs')\n",
    "\n",
    "    printLiftMeasureCV(lift_scores)   \n",
    "\n",
    "    x_lift_curve, y_lift_curve_linsvm = calcLiftCurve(y_tr, LinSVM.decision_function(X_tr))\n",
    "\n",
    "    LinSVM.fit(X_tr, y_tr)\n",
    "\n",
    "    saveModel(LinSVM, 'model.LinSVM') "
   ]
  },
  {
   "cell_type": "code",
   "execution_count": null,
   "metadata": {},
   "outputs": [],
   "source": [
    "LinSVM = loadModel('model.LinSVM')\n",
    "\n",
    "y_pred = LinSVM.predict(X_tr)\n",
    "printClassificationReport(y_pred, y_tr)\n",
    "printVariableImportance(LinSVM.coef_[0], train_set.loc[:,train_set.columns != 'churn'].columns)"
   ]
  },
  {
   "cell_type": "markdown",
   "metadata": {},
   "source": [
    "### Random Forest"
   ]
  },
  {
   "cell_type": "code",
   "execution_count": null,
   "metadata": {},
   "outputs": [],
   "source": [
    "if __name__ == \"__main__\":\n",
    "    # train RandomForest\n",
    "    RandomForest = RandomForestClassifier(\n",
    "        n_estimators=50, \n",
    "        criterion='gini', \n",
    "        max_depth=5,\n",
    "        min_samples_split=2, \n",
    "        min_samples_leaf=1, \n",
    "        max_features='auto', \n",
    "        max_leaf_nodes=None, \n",
    "        n_jobs=1)\n",
    "\n",
    "    lift_scores = cross_val_score(\n",
    "        RandomForest,\n",
    "        X_full, y=y_full,\n",
    "        scoring=liftScorer, cv=10,\n",
    "        n_jobs=4, verbose=0, pre_dispatch='2*n_jobs')\n",
    "    printLiftMeasureCV(lift_scores)\n",
    "\n",
    "    RandomForest.fit(X_tr, y_tr)\n",
    "    \n",
    "    x_lift_curve, y_lift_curve_rf = calcLiftCurve(y_te, RandomForest.predict_proba(X_te))\n",
    "\n",
    "    y_pred = RandomForest.predict(X_te)\n",
    "    printClassificationReport(y_pred, y_te, target_names)\n",
    "    printVariableImportance(RandomForest.feature_importances_, train_set.loc[:,train_set.columns != 'churn'].columns)\n",
    "\n",
    "    saveModel(RandomForest, 'model.RandomForest')"
   ]
  },
  {
   "cell_type": "markdown",
   "metadata": {},
   "source": [
    "#### Gradient Boosting Classifier\n",
    "I created a script that evaluates the classifier after each boosting\n",
    "iteration and plots the learning curve. This helps to evaluate if the\n",
    "enough boosting iterations are made."
   ]
  },
  {
   "cell_type": "code",
   "execution_count": null,
   "metadata": {},
   "outputs": [],
   "source": [
    "from concurrent.futures import ThreadPoolExecutor, as_completed\n",
    "import time\n",
    "\n",
    "import numpy as np\n",
    "\n",
    "from sklearn.base import clone\n",
    "from sklearn.metrics import f1_score\n",
    "from sklearn.ensemble import GradientBoostingClassifier\n",
    "\n",
    "\n",
    "def gbcEvaluation(estimator, Xtr, ytr, Xva, yva):\n",
    "    '''Evaluates a a GradientBoostingClassifier `estimator`\n",
    "    at every boosting iteration.\n",
    "    \n",
    "    Returns a tuple with\n",
    "    * the `estimator`\n",
    "    * the f1 score for each boosting iteration\n",
    "    * the loss for each boosting iteration\n",
    "    * the lift score for each boosting iteration\n",
    "    * the predictions for each boosting iteration\n",
    "    * the true labels `yva`\n",
    "    '''\n",
    "    estimator.fit(Xtr,ytr)\n",
    "    \n",
    "    iterations = estimator.get_params()['n_estimators']\n",
    "    \n",
    "    # Calculate the predictions and f1-score for each \n",
    "    # boosting iteration.\n",
    "    yva_preds = np.zeros((iterations, len(yva)))\n",
    "    f1 = np.zeros((iterations,), dtype=np.float32)\n",
    "    for l, yva_pred in enumerate(estimator.staged_predict(Xva)):\n",
    "        yva_preds[l,:] = y_pred\n",
    "        f1[l] = f1_score(yva, yva_pred)\n",
    "\n",
    "    # Calculate the loss (e.g. the 'deviance') for each\n",
    "    # boosting iteration.\n",
    "    loss = np.zeros((iterations,), dtype=np.float32)\n",
    "    for i, yva_loss in enumerate(estimator.staged_decision_function(Xva)):\n",
    "        loss[i] = estimator.loss_(yva, yva_loss)\n",
    "\n",
    "    # Calculate the lift score for the 10% of the customers\n",
    "    # from the validaiton set with the highest predicted churn\n",
    "    # score for each boosting iteration.\n",
    "    lift = np.zeros((iterations,), dtype=np.float32)\n",
    "    for j, yva_prob in enumerate(estimator.staged_predict_proba(Xva)):\n",
    "        lift[j] = calcLift(yva, yva_prob)\n",
    "\n",
    "    return (estimator, f1, loss, lift, yva_preds, yva)\n",
    "\n",
    "if __name__ == \"__main__\":\n",
    "    gbc = GradientBoostingClassifier(\n",
    "        loss='deviance', \n",
    "        learning_rate=0.1, \n",
    "        n_estimators=200, \n",
    "        min_samples_split=2, \n",
    "        min_samples_leaf=1, \n",
    "        max_depth=6, \n",
    "        subsample=0.5, \n",
    "        max_features=None, \n",
    "        max_leaf_nodes=None, \n",
    "        warm_start=False,\n",
    "        presort='auto',\n",
    "        verbose=0)\n",
    "\n",
    "    iterations = gbc.get_params()['n_estimators']\n",
    "\n",
    "    estimators = []\n",
    "    y_true = []\n",
    "    f1 = np.zeros((iterations,), dtype=np.float32)\n",
    "    loss = np.zeros((iterations,), dtype=np.float32)\n",
    "    lift = np.zeros((iterations,len(data_splits)), dtype=np.float32)\n",
    "    y_predicts = [np.zeros((iterations,len(y_te)), dtype=np.float32) for i in range(0,len(data_splits))]\n",
    "    \n",
    "    start_time = time.time()\n",
    "\n",
    "    with ThreadPoolExecutor(max_workers=4) as executor:\n",
    "        future_to_scores = {\n",
    "            executor.submit(gbcEvaluation, clone(gbc), Xtr, ytr, Xva, yva):\n",
    "                (Xtr, Xva, ytr, yva)\n",
    "            for (Xtr, Xva, ytr, yva) in data_splits\n",
    "        }\n",
    "\n",
    "        for k, future in enumerate(as_completed(future_to_scores)):\n",
    "            try:\n",
    "                res_scores = future.result()\n",
    "            except Exception as exc:\n",
    "                print(f\"ERROR:{exc}\")\n",
    "            else:\n",
    "                estimators.append(res_scores[0])\n",
    "                f1 += res_scores[1]\n",
    "                loss += res_scores[2]\n",
    "                lift[:,k] = res_scores[3]\n",
    "                y_predicts[k] = res_scores[4]\n",
    "                y_true.append(res_scores[5])\n",
    "\n",
    "    run_time = time.time()-start_time\n",
    "    print(f\"runtime: {run_time:.1f} s\")\n",
    "    \n",
    "    # average the results\n",
    "    f1 /= len(estimators)\n",
    "    loss /= len(estimators)\n",
    "    y_predicts = np.concatenate(y_predicts, axis=1)\n",
    "    y_true = np.concatenate(y_true)\n",
    "    \n",
    "    # fit individual model for prediction of test dataset\n",
    "    gbc.fit(X_full, y_full)\n",
    "    saveModel([gbc, estimators], 'model.GradientBoosting')\n",
    "    \n",
    "    x_lift_curve, y_lift_curve_gbc = calcLiftCurve(\n",
    "        y_te, gbc.predict_proba(X_te))\n",
    "    \n",
    "    # print average lift scores with min, max, and std\n",
    "    argmax_lift = np.argmax(np.mean(lift,axis=1), axis=0)\n",
    "    print('Score after {0} boosting iterations:\\n'.format(len(lift)))\n",
    "    printLiftMeasureCV(lift[-1])\n",
    "    printClassificationReport(y_predicts[argmax_lift], y_true, target_names)\n",
    "    printVariableImportance(np.mean([x.feature_importances_ for x in estimators],axis=0), train_set.columns[train_set.columns != 'churn'])\n",
    "    print('\\n')\n",
    "    \n",
    "    # plot train and test set deviance after each boosting iteration\n",
    "    plt.figure(figsize=(15,10))\n",
    "    plt.subplot(2,2,1)\n",
    "    plt.title('Deviance')\n",
    "    plt.plot(np.arange(iterations)+1, np.mean([x.train_score_ for x in estimators], axis=0), 'r-', label='deviance on training set')\n",
    "    plt.plot(np.arange(iterations)+1, loss, 'b-', label='deviance on test set')\n",
    "    plt.legend(loc='upper right')\n",
    "    plt.xlabel('Boosting Iterations')\n",
    "    plt.ylabel('Deviance')    \n",
    "    # plot F1 measure after each boosting iteration\n",
    "    plt.subplot(2,2,2)\n",
    "    plt.title('F1 Score')\n",
    "    plt.plot(np.arange(iterations)+1, f1, 'b-', label='F1 score on test set')\n",
    "    plt.legend(loc='lower right')\n",
    "    plt.xlabel('Boosting Iterations')\n",
    "    plt.ylabel('F1')\n",
    "    # plot 10% lift measure after every boosting iteration\n",
    "    plt.subplot(2,2,3)\n",
    "    plt.title('Lift Score')\n",
    "    plt.plot(np.arange(iterations)+1, np.mean(lift, axis=1), 'b-', label='10%-lift on test set')\n",
    "    plt.legend(loc='lower right')\n",
    "    plt.xlabel('Boosting Iterations')\n",
    "    plt.ylabel('Lift')\n",
    "    # plot confusion matrix\n",
    "    ax2 = plt.subplot(2,2,4)\n",
    "    plot_confusion_matrix(confusion_matrix(y_true,y_predicts[-1]), ax2, title='Confusion matrix ({0} iter.)'.format(len(lift)))"
   ]
  },
  {
   "cell_type": "markdown",
   "metadata": {},
   "source": [
    "### RBF SVM"
   ]
  },
  {
   "cell_type": "code",
   "execution_count": null,
   "metadata": {},
   "outputs": [],
   "source": [
    "if __name__ == \"__main__\":\n",
    "    rbfSVM = SVC(C=1.0, \n",
    "                 kernel='rbf', \n",
    "                 probability=False, \n",
    "                 gamma='auto', # 1/n_features\n",
    "                 tol=0.001, \n",
    "                 cache_size=200)\n",
    "    \n",
    "    lift_scores = cross_val_score(rbfSVM, X_full, y=y_full, scoring=liftScorer, \n",
    "                             cv=10, n_jobs=4, verbose=0, pre_dispatch='2*n_jobs')\n",
    "    printLiftMeasureCV(lift_scores)\n",
    "    \n",
    "    rbfSVM.fit(X_tr, y_tr)\n",
    "    \n",
    "    x_lift_curve, y_lift_curve_rbfsvm = calcLiftCurve(y_te, rbfSVM.decision_function(X_te))\n",
    "    \n",
    "    y_pred = rbfSVM.predict(X_te)\n",
    "    printClassificationReport(y_pred, y_te, target_names)\n",
    "    \n",
    "    saveModel(rbfSVM, 'model.rbfSVM')"
   ]
  },
  {
   "cell_type": "markdown",
   "metadata": {},
   "source": [
    "# Plot Lift Curves"
   ]
  },
  {
   "cell_type": "code",
   "execution_count": null,
   "metadata": {},
   "outputs": [],
   "source": [
    "plt.figure(figsize=(15,10))\n",
    "# plt.subplot(2,2,1)\n",
    "plt.title('Lift Curves')\n",
    "plt.plot(x_lift_curve, y_lift_curve_gbc, 'r-', label='Gradient Boosting Trees')\n",
    "plt.plot(x_lift_curve, y_lift_curve_rf, 'b-', label='Random Forest')\n",
    "plt.plot(x_lift_curve, y_lift_curve_lr, 'g-', label='Logistic Regression')\n",
    "plt.plot(x_lift_curve, y_lift_curve_linsvm, 'k-', label='Linear SVM')\n",
    "# plt.plot(x_lift_curve, y_lift_curve_rbfsvm, 'c-', label='Gaussian Naive Bayes')\n",
    "plt.plot(x_lift_curve, y_lift_curve_gnb, 'm-', label='Gaussian Naive Bayes')\n",
    "\n",
    "plt.legend(loc='upper right')\n",
    "plt.xlabel('Boosting Iterations')\n",
    "plt.ylabel('Deviance')  "
   ]
  },
  {
   "cell_type": "markdown",
   "metadata": {},
   "source": [
    "# Predict Test Set"
   ]
  },
  {
   "cell_type": "code",
   "execution_count": null,
   "metadata": {},
   "outputs": [],
   "source": [
    "# test_set.drop('churn',axis=1,inplace=True)\n",
    "# test_set = np.asfortranarray(test_set.values, dtype=np.float32)\n",
    "\n",
    "y_test_proba = gbc.predict_proba(test_set)\n",
    "\n",
    "y_test_proba = pandas.DataFrame(y_test_proba[:,1], index=test_Customer_IDs)\n",
    "y_test_proba.columns = ['EstimatedChurnProbability']\n",
    "\n",
    "y_test_proba.to_csv('BADS_Test_Predictions_GBC.csv')"
   ]
  },
  {
   "cell_type": "markdown",
   "metadata": {},
   "source": [
    "#### Load Libraries & Define Functions"
   ]
  },
  {
   "cell_type": "code",
   "execution_count": null,
   "metadata": {},
   "outputs": [],
   "source": [
    "from sklearn.base import clone\n",
    "from concurrent.futures import ThreadPoolExecutor, ProcessPoolExecutor, as_completed\n",
    "%matplotlib inline\n",
    "import matplotlib.pyplot as plt\n",
    "import numpy as np\n",
    "import pandas\n",
    "from sklearn.model_selection import train_test_split, cross_val_score, StratifiedKFold, GridSearchCV\n",
    "from sklearn.ensemble import RandomForestClassifier, RandomForestRegressor, GradientBoostingClassifier\n",
    "from sklearn.naive_bayes import GaussianNB\n",
    "from sklearn.linear_model import LogisticRegression, LogisticRegressionCV\n",
    "from sklearn.calibration import CalibratedClassifierCV\n",
    "from sklearn.preprocessing import StandardScaler, LabelEncoder\n",
    "from sklearn.svm import SVC, LinearSVC\n",
    "from sklearn.feature_selection import SelectPercentile, f_classif, SelectKBest\n",
    "from sklearn.metrics import roc_auc_score, precision_recall_fscore_support, classification_report, f1_score, confusion_matrix\n",
    "from sklearn.decomposition import PCA\n",
    "from sklearn.pipeline import Pipeline, FeatureUnion\n",
    "from scipy.stats import spearmanr\n",
    "import pickle\n",
    "import time\n",
    "from IPython.display import clear_output\n",
    "\n",
    "def liftScorer(estimator, X, y):\n",
    "    y_proba = None\n",
    "    if hasattr(estimator, 'predict_proba'):\n",
    "        y_proba = estimator.predict_proba(X)\n",
    "    elif hasattr(estimator, 'decision_function'):\n",
    "        y_proba = estimator.decision_function(X)\n",
    "    else:\n",
    "        return 0.0\n",
    "    return calcLift(y, y_proba)\n",
    "\n",
    "def calcLift(y, y_proba, percentile=0.1):\n",
    "    if len(np.shape(y_proba)) == 2:\n",
    "        y_lift = sorted(zip(y_proba[:,1],y),reverse=True)\n",
    "    else:\n",
    "        y_lift = sorted(zip(y_proba,y),reverse=True)\n",
    "    y_lift = [list(t) for t in zip(*y_lift)][1]\n",
    "    y_lift = y_lift[0:np.int32(len(y_lift)*percentile)]\n",
    "\n",
    "    Pi10 = np.sum(y_lift)/len(y_lift)\n",
    "    PiAll = np.sum(y)/len(y)\n",
    "    Lift10 = Pi10/PiAll\n",
    "    return Lift10\n",
    "\n",
    "def calcLiftCurve(y, y_proba):\n",
    "    PiAll_inv = 1.0/(np.sum(y)/len(y))\n",
    "    \n",
    "    if len(np.shape(y_proba)) == 2:\n",
    "        y_lift = sorted(zip(y_proba[:,1],y),reverse=True)\n",
    "    else:\n",
    "        y_lift = sorted(zip(y_proba,y),reverse=True)\n",
    "    y_lift = [list(t) for t in zip(*y_lift)][1]\n",
    "    \n",
    "    x_axis = np.linspace(0.0, 1.0, 101)\n",
    "    y_axis = np.zeros(np.shape(x_axis), dtype=np.float32)\n",
    "    for i, percentile in enumerate(x_axis):\n",
    "        y_percentile = y_lift[0:np.int32(len(y_lift)*percentile)]\n",
    "        y_axis[i] = (np.sum(y_percentile)/len(y_percentile))*PiAll_inv\n",
    "    return x_axis, y_axis\n",
    "\n",
    "def printLiftMeasureCV(scores):\n",
    "    print(u'{0:2.0f}% Lift Measure:\\t[{3:.3f}, {1:.3f}\\u00B1{2:0.3f}, {4:.3f}]\\n'\n",
    "          .format(0.1*100, np.mean(scores), np.std(scores), np.min(scores), np.max(scores)))\n",
    "    \n",
    "def printClassificationReport(y_pred, y_true, target_names):\n",
    "    print('Classification Report:\\n\\n', classification_report(y_true, y_pred, target_names=target_names))\n",
    "    \n",
    "def printVariableImportance(feature_importances, column_names):\n",
    "    importance = sorted(zip(feature_importances, column_names), reverse=True)\n",
    "    f1, f2, f3, f4, f5 = importance[0:20], importance[20:40], importance[40:60], importance[60:80], importance[80:100]\n",
    "    print('\\nTop100 Variable Importance:\\n')\n",
    "    for r1,r2,r3,r4,r5 in zip(f1,f2,f3,f4,f5):\n",
    "        print('{0:.2f} {1:21} {2:.2f} {3:21} {4:.2f} {5:21} {6:.2f} {7:21} {8:.2f} {9:21}'\n",
    "              .format(r1[0],r1[1][0:21],r2[0],r2[1][0:21],r3[0],r3[1][0:21],r4[0],r4[1][0:21],r5[0],r5[1][0:21]))\n",
    "        \n",
    "def plot_confusion_matrix(cm, axis, title='Confusion matrix', cmap=plt.cm.Blues, target_names=['NO CHURN', 'CHURN']):\n",
    "    cm_norm = cm.astype('float') / cm.sum(axis=1)[:, np.newaxis]\n",
    "    plt.imshow(cm_norm, interpolation='nearest', cmap=cmap)\n",
    "    plt.title(title)\n",
    "    plt.colorbar()\n",
    "    tick_marks = np.arange(len(target_names))\n",
    "    plt.xticks(tick_marks, target_names, rotation=45)\n",
    "    plt.yticks(tick_marks, target_names)\n",
    "    plt.tight_layout()\n",
    "    plt.ylabel('True label')\n",
    "    plt.xlabel('Predicted label')\n",
    "    for i in [0,1]:\n",
    "        for j in [0,1]:\n",
    "            axis.annotate(str('{0}\\n({1:.2f})'.format(cm[j][i], cm_norm[j][i])), xy=(i-0.1,j+0.06))\n",
    "        \n",
    "def saveModel(model, model_name):\n",
    "    with open(model_name, 'wb') as f:\n",
    "        pickle.dump(model, f)\n",
    "        \n",
    "def loadModel(model_name):\n",
    "    with open(model_name, 'rb') as f:\n",
    "        return pickle.load(f)\n",
    "        \n",
    "def generateTrainTestSplit(dataset, test_percent=0.1):\n",
    "    # split the data set into training and test\n",
    "    X_tr, X_te, y_tr, y_te = train_test_split(dataset.loc[:,[col for col in dataset.columns if col not in ['churn']]],\n",
    "                                              dataset.loc[:,[col for col in dataset.columns if col in ['churn']]], \n",
    "                                              test_size=test_percent, \n",
    "                                              stratify=dataset.loc[:,[col for col in dataset.columns if col in ['churn']]])\n",
    "\n",
    "    X_tr = np.asfortranarray(X_tr.values, dtype=np.float32)\n",
    "    X_te = np.asfortranarray(X_te.values, dtype=np.float32)\n",
    "    y_tr = np.ravel(np.asfortranarray(y_tr.values, dtype=np.float32))\n",
    "    y_te = np.ravel(np.asfortranarray(y_te.values, dtype=np.float32))\n",
    "    \n",
    "    return X_tr, X_te, y_tr, y_te"
   ]
  },
  {
   "cell_type": "markdown",
   "metadata": {},
   "source": [
    "# Load & Preprocess Datasets"
   ]
  },
  {
   "cell_type": "code",
   "execution_count": null,
   "metadata": {},
   "outputs": [],
   "source": [
    "StdScaler = StandardScaler(copy=True)\n",
    "StdScaler = StdScaler.fit(data.loc[:,data.columns != 'churn'])\n",
    "data.loc[:, data.columns != 'churn'] = StdScaler.transform(data.loc[:,data.columns != 'churn'])\n",
    "\n",
    "train_set = data.iloc[:len(data)/2,:]\n",
    "test_set = data.iloc[len(data)/2:,:]\n",
    "\n",
    "del data"
   ]
  },
  {
   "cell_type": "markdown",
   "metadata": {},
   "source": [
    "# Save or Load Dataset"
   ]
  },
  {
   "cell_type": "code",
   "execution_count": null,
   "metadata": {},
   "outputs": [],
   "source": [
    "try:\n",
    "    train_set\n",
    "except NameError:\n",
    "    with open('train.data', 'rb') as f:\n",
    "        train_set = pickle.load(f)\n",
    "else:\n",
    "    if train_set is not None:\n",
    "        with open('train.data', 'wb') as f:\n",
    "            pickle.dump(train_set, f)\n",
    "    else:\n",
    "        with open('train.data', 'rb') as f:\n",
    "            train_set = pickle.load(f)\n",
    "\n",
    "try:\n",
    "    test_set\n",
    "except NameError:\n",
    "    with open('test.data', 'rb') as f:\n",
    "        test_set = pickle.load(f)\n",
    "else:\n",
    "    if test_set is not None:\n",
    "        with open('test.data', 'wb') as f:\n",
    "            pickle.dump(test_set, f)\n",
    "    else:\n",
    "        with open('test.data', 'rb') as f:\n",
    "            test_set = pickle.load(f)"
   ]
  },
  {
   "cell_type": "code",
   "execution_count": null,
   "metadata": {},
   "outputs": [],
   "source": [
    "# give classes a name\n",
    "target_names = ('NO CHURN', 'CHURN')\n",
    "\n",
    "data_splits = []\n",
    "\n",
    "for splt in range(0,4):\n",
    "    data_splits.append(generateTrainTestSplit(train_set))\n",
    "\n",
    "X_tr, X_te, y_tr, y_te = generateTrainTestSplit(train_set)\n",
    "\n",
    "# also create a full version for cross-validation\n",
    "X_full = np.asfortranarray(train_set.loc[:,train_set.columns != 'churn'].values, dtype=np.float32)\n",
    "y_full = np.ravel(np.asfortranarray(train_set.loc[:,train_set.columns == 'churn'].values, dtype=np.float32))"
   ]
  },
  {
   "cell_type": "markdown",
   "metadata": {},
   "source": [
    "# BACKUP"
   ]
  },
  {
   "cell_type": "markdown",
   "metadata": {},
   "source": [
    "#### Reduce dataset to important features"
   ]
  },
  {
   "cell_type": "code",
   "execution_count": null,
   "metadata": {},
   "outputs": [],
   "source": [
    "# with open('train.data', 'rb') as f:\n",
    "#     data = pickle.load(f)\n",
    "# len(data.columns)\n",
    "\n",
    "# subset_columns = ['csa','eqpdays','ethnic','months','change_mou','mou_Range','adjrev','mou_Mean','totrev','avgrev','churn']\n",
    "# data = data[subset_columns]\n",
    "# len(data.columns)\n",
    "\n",
    "# dummy_mask = [x if (x in data.columns) else None for x in (many_unordered+two_plus_missing)]\n",
    "# dummy_columns = []\n",
    "# for column in dummy_mask:\n",
    "#     if column != None:\n",
    "#         dummy_columns.append(column)\n",
    "# dummy_columns"
   ]
  },
  {
   "cell_type": "markdown",
   "metadata": {},
   "source": [
    "#### Grid Search Code"
   ]
  },
  {
   "cell_type": "code",
   "execution_count": null,
   "metadata": {},
   "outputs": [],
   "source": [
    "#     param_grid = dict(max_depth=[3, 9], min_samples_leaf=[1, 50], max_features=[1.0, 0.3])\n",
    "#     grid_search = GridSearchCV(gbc, scoring=scorer, param_grid=param_grid, verbose=3, cv=3, n_jobs=2, pre_dispatch=3)\n",
    "#     grid_search.fit(X_tr,y_tr)\n",
    "#     print(grid_search.grid_scores_)"
   ]
  },
  {
   "cell_type": "markdown",
   "metadata": {},
   "source": [
    "#### Simple Gradient Boosting Evaluation"
   ]
  },
  {
   "cell_type": "code",
   "execution_count": null,
   "metadata": {},
   "outputs": [],
   "source": [
    "# if __name__ == \"__main__\":\n",
    "#     gbc = GradientBoostingClassifier(loss='deviance', \n",
    "#                                      learning_rate=0.1, \n",
    "#                                      n_estimators=50, \n",
    "#                                      min_samples_split=2, \n",
    "#                                      min_samples_leaf=1, \n",
    "#                                      max_depth=6, \n",
    "#                                      subsample=0.5, \n",
    "#                                      max_features=None, \n",
    "#                                      max_leaf_nodes=None, \n",
    "#                                      warm_start=False, presort='auto', verbose=0)\n",
    "#     lift_scores = cross_val_score(gbc, X_full, y=y_full, scoring=liftScorer, \n",
    "#                          cv=10, n_jobs=2, verbose=1, pre_dispatch='2*n_jobs')\n",
    "#     printLiftMeasureCV(lift_scores)\n",
    "\n",
    "#     gbc.fit(X_tr, y_tr)\n",
    "#     y_pred = gbc.predict(X_te)\n",
    "#     printClassificationReport(y_pred, y_te, target_names)\n",
    "#     printVariableImportance(gbc.feature_importances_, data.loc[:,data.columns != 'churn'].columns)\n",
    "\n",
    "#     saveModel(gbc, 'GradientBoostingClassifier')"
   ]
  }
 ],
 "metadata": {
  "kernelspec": {
   "display_name": "Python 3",
   "language": "python",
   "name": "python3"
  },
  "language_info": {
   "codemirror_mode": {
    "name": "ipython",
    "version": 3
   },
   "file_extension": ".py",
   "mimetype": "text/x-python",
   "name": "python",
   "nbconvert_exporter": "python",
   "pygments_lexer": "ipython3",
   "version": "3.6.5"
  }
 },
 "nbformat": 4,
 "nbformat_minor": 1
}
